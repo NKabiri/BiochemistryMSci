{
 "cells": [
  {
   "cell_type": "code",
   "execution_count": 1,
   "metadata": {},
   "outputs": [],
   "source": [
    "# The programming language we are using is python\n",
    "# We require the use of some functions not already part of this language\n",
    "# Instead of writing them from scratch, we can import them as part of external libraries\n",
    "import pandas as pd\n",
    "import numpy as np\n",
    "import matplotlib.pyplot as plt\n",
    "%matplotlib inline\n",
    "import os\n",
    "import random\n",
    "from sklearn.model_selection import train_test_split\n",
    "import shutil\n",
    "from sklearn.feature_extraction.text import CountVectorizer\n",
    "from sklearn.metrics import accuracy_score, f1_score, precision_score, recall_score\n",
    "from sklearn.linear_model import LinearRegression\n",
    "from sklearn.ensemble import RandomForestClassifier"
   ]
  },
  {
   "cell_type": "code",
   "execution_count": 2,
   "metadata": {},
   "outputs": [],
   "source": [
    "# This specifies the file containing relevant data from my hard drive\n",
    "data = pd.read_csv(\"C:/Users/natha/Desktop/MSCi/algae.csv\")"
   ]
  },
  {
   "cell_type": "code",
   "execution_count": 3,
   "metadata": {},
   "outputs": [
    {
     "data": {
      "text/html": [
       "<div>\n",
       "<style scoped>\n",
       "    .dataframe tbody tr th:only-of-type {\n",
       "        vertical-align: middle;\n",
       "    }\n",
       "\n",
       "    .dataframe tbody tr th {\n",
       "        vertical-align: top;\n",
       "    }\n",
       "\n",
       "    .dataframe thead th {\n",
       "        text-align: right;\n",
       "    }\n",
       "</style>\n",
       "<table border=\"1\" class=\"dataframe\">\n",
       "  <thead>\n",
       "    <tr style=\"text-align: right;\">\n",
       "      <th></th>\n",
       "      <th>Gene</th>\n",
       "      <th>Average</th>\n",
       "      <th>Normalised avg</th>\n",
       "      <th>3UTR</th>\n",
       "      <th>5UTR</th>\n",
       "      <th>Quintile</th>\n",
       "      <th>Tertile</th>\n",
       "      <th>3UTR MFE</th>\n",
       "      <th>3UTRL</th>\n",
       "    </tr>\n",
       "  </thead>\n",
       "  <tbody>\n",
       "    <tr>\n",
       "      <th>0</th>\n",
       "      <td>atpA</td>\n",
       "      <td>11.88</td>\n",
       "      <td>0.832</td>\n",
       "      <td>tttttaattaagtaggaactcggtatatgctcttttggggtcttat...</td>\n",
       "      <td>attttaatgcttatgctatcttttttatttagtccataaaaccttt...</td>\n",
       "      <td>5</td>\n",
       "      <td>3</td>\n",
       "      <td>-31.3</td>\n",
       "      <td>185</td>\n",
       "    </tr>\n",
       "    <tr>\n",
       "      <th>1</th>\n",
       "      <td>atpB</td>\n",
       "      <td>11.62</td>\n",
       "      <td>0.814</td>\n",
       "      <td>ttggctctttaagaagaaaacaacttaatggtgtccaaatatttat...</td>\n",
       "      <td>tcatattttaacttattttacttaaattcttacgtataaaccccga...</td>\n",
       "      <td>5</td>\n",
       "      <td>3</td>\n",
       "      <td>-4.9</td>\n",
       "      <td>70</td>\n",
       "    </tr>\n",
       "    <tr>\n",
       "      <th>2</th>\n",
       "      <td>atpE</td>\n",
       "      <td>11.36</td>\n",
       "      <td>0.796</td>\n",
       "      <td>ttagatctatgtatttacccaaagagtatactgttcaactctatca...</td>\n",
       "      <td>aataaaaaaaaataaaacttctaaaagcgataaagctagaacattc...</td>\n",
       "      <td>4</td>\n",
       "      <td>3</td>\n",
       "      <td>-30.1</td>\n",
       "      <td>132</td>\n",
       "    </tr>\n",
       "    <tr>\n",
       "      <th>3</th>\n",
       "      <td>atpF</td>\n",
       "      <td>9.68</td>\n",
       "      <td>0.678</td>\n",
       "      <td>tttttaataaagcttactaacgaattacactaactttactgtattt...</td>\n",
       "      <td>aaataaatttgacttagcttaaatttcagtatatttatatacacaa...</td>\n",
       "      <td>3</td>\n",
       "      <td>2</td>\n",
       "      <td>-230.6</td>\n",
       "      <td>628</td>\n",
       "    </tr>\n",
       "    <tr>\n",
       "      <th>4</th>\n",
       "      <td>atpH</td>\n",
       "      <td>13.85</td>\n",
       "      <td>0.971</td>\n",
       "      <td>ttttaaatttacatgttgtaaaggatatctatagaaatgggagtta...</td>\n",
       "      <td>tcggataaaacatattatgaccgtataatgtttttccaccattgaa...</td>\n",
       "      <td>5</td>\n",
       "      <td>3</td>\n",
       "      <td>-206.4</td>\n",
       "      <td>986</td>\n",
       "    </tr>\n",
       "  </tbody>\n",
       "</table>\n",
       "</div>"
      ],
      "text/plain": [
       "   Gene  Average  Normalised avg  \\\n",
       "0  atpA    11.88           0.832   \n",
       "1  atpB    11.62           0.814   \n",
       "2  atpE    11.36           0.796   \n",
       "3  atpF     9.68           0.678   \n",
       "4  atpH    13.85           0.971   \n",
       "\n",
       "                                                3UTR  \\\n",
       "0  tttttaattaagtaggaactcggtatatgctcttttggggtcttat...   \n",
       "1  ttggctctttaagaagaaaacaacttaatggtgtccaaatatttat...   \n",
       "2  ttagatctatgtatttacccaaagagtatactgttcaactctatca...   \n",
       "3  tttttaataaagcttactaacgaattacactaactttactgtattt...   \n",
       "4  ttttaaatttacatgttgtaaaggatatctatagaaatgggagtta...   \n",
       "\n",
       "                                                5UTR  Quintile  Tertile  \\\n",
       "0  attttaatgcttatgctatcttttttatttagtccataaaaccttt...         5        3   \n",
       "1  tcatattttaacttattttacttaaattcttacgtataaaccccga...         5        3   \n",
       "2  aataaaaaaaaataaaacttctaaaagcgataaagctagaacattc...         4        3   \n",
       "3  aaataaatttgacttagcttaaatttcagtatatttatatacacaa...         3        2   \n",
       "4  tcggataaaacatattatgaccgtataatgtttttccaccattgaa...         5        3   \n",
       "\n",
       "   3UTR MFE  3UTRL  \n",
       "0     -31.3    185  \n",
       "1      -4.9     70  \n",
       "2     -30.1    132  \n",
       "3    -230.6    628  \n",
       "4    -206.4    986  "
      ]
     },
     "execution_count": 3,
     "metadata": {},
     "output_type": "execute_result"
    }
   ],
   "source": [
    "# We will preview the first 5 examples in our dataset\n",
    "data.head()"
   ]
  },
  {
   "cell_type": "code",
   "execution_count": 4,
   "metadata": {},
   "outputs": [
    {
     "name": "stdout",
     "output_type": "stream",
     "text": [
      "<class 'pandas.core.frame.DataFrame'>\n",
      "RangeIndex: 67 entries, 0 to 66\n",
      "Data columns (total 9 columns):\n",
      " #   Column          Non-Null Count  Dtype  \n",
      "---  ------          --------------  -----  \n",
      " 0   Gene            67 non-null     object \n",
      " 1   Average         67 non-null     float64\n",
      " 2   Normalised avg  67 non-null     float64\n",
      " 3   3UTR            67 non-null     object \n",
      " 4   5UTR            67 non-null     object \n",
      " 5   Quintile        67 non-null     int64  \n",
      " 6   Tertile         67 non-null     int64  \n",
      " 7   3UTR MFE        67 non-null     float64\n",
      " 8   3UTRL           67 non-null     int64  \n",
      "dtypes: float64(3), int64(3), object(3)\n",
      "memory usage: 4.8+ KB\n"
     ]
    }
   ],
   "source": [
    "# An overview of the dataset, confirming we have no empty entries (\"0 non-null\")\n",
    "data.info()"
   ]
  },
  {
   "cell_type": "code",
   "execution_count": 5,
   "metadata": {},
   "outputs": [
    {
     "data": {
      "text/plain": [
       "Index(['Gene', 'Average', 'Normalised avg', '3UTR', '5UTR', 'Quintile',\n",
       "       'Tertile', '3UTR MFE', '3UTRL'],\n",
       "      dtype='object')"
      ]
     },
     "execution_count": 5,
     "metadata": {},
     "output_type": "execute_result"
    }
   ],
   "source": [
    "# These are the column headers of our dataset\n",
    "data.keys()"
   ]
  },
  {
   "cell_type": "code",
   "execution_count": 6,
   "metadata": {},
   "outputs": [
    {
     "name": "stdout",
     "output_type": "stream",
     "text": [
      "The dataset contains 67 chloroplast genes\n"
     ]
    }
   ],
   "source": [
    "print(f\"The dataset contains {data['Gene'].count()} chloroplast genes\")"
   ]
  },
  {
   "cell_type": "code",
   "execution_count": 7,
   "metadata": {},
   "outputs": [
    {
     "name": "stdout",
     "output_type": "stream",
     "text": [
      "This is the number of examples of each tertile\n"
     ]
    },
    {
     "data": {
      "text/plain": [
       "Tertile  Tertile\n",
       "1        1          22\n",
       "2        2          22\n",
       "3        3          23\n",
       "Name: Tertile, dtype: int64"
      ]
     },
     "execution_count": 7,
     "metadata": {},
     "output_type": "execute_result"
    }
   ],
   "source": [
    "# As the total number of genes is not divisible by 3, the tertiles are not equally sized\n",
    "print('This is the number of examples of each tertile')\n",
    "data[\"Tertile\"].groupby(data['Tertile']).value_counts()"
   ]
  },
  {
   "cell_type": "code",
   "execution_count": 8,
   "metadata": {},
   "outputs": [
    {
     "data": {
      "image/png": "[encoded data removed]",
      "text/plain": [
       "<Figure size 432x288 with 1 Axes>"
      ]
     },
     "metadata": {
      "needs_background": "light"
     },
     "output_type": "display_data"
    }
   ],
   "source": [
    "# A graphical representation of this\n",
    "data['Tertile'].value_counts().plot(kind='bar').set(xlabel=\"Quintile\", ylabel=\"Frequency\", title=\"Quintile counts\");"
   ]
  },
  {
   "cell_type": "code",
   "execution_count": 9,
   "metadata": {},
   "outputs": [],
   "source": [
    "# On the plus side, we have a well-balanced dataset :)"
   ]
  },
  {
   "cell_type": "code",
   "execution_count": 10,
   "metadata": {},
   "outputs": [],
   "source": [
    "# This function will divide our sequences into smaller lengths called k-mers for easier processing\n",
    "\n",
    "def kmerconvert (sequence, k_length):\n",
    "    k_conversion = []\n",
    "    num_kmers = len(sequence) - k_length + 1\n",
    "    \n",
    "    for element in range(num_kmers):\n",
    "        kmer = sequence[element:element + k_length]\n",
    "        k_conversion.append(kmer)\n",
    "        \n",
    "    return k_conversion"
   ]
  },
  {
   "cell_type": "code",
   "execution_count": 11,
   "metadata": {},
   "outputs": [],
   "source": [
    "# Applying the above function to our 3' regions\n",
    "data['3UTRK'] = data.apply(lambda x: kmerconvert(x['3UTR'], k_length=3), axis=1)"
   ]
  },
  {
   "cell_type": "code",
   "execution_count": 12,
   "metadata": {},
   "outputs": [],
   "source": [
    "# Applying the above function to our 5' regions\n",
    "data['5UTRK'] = data.apply(lambda x: kmerconvert(x['5UTR'], k_length=3), axis=1)"
   ]
  },
  {
   "cell_type": "code",
   "execution_count": 13,
   "metadata": {},
   "outputs": [
    {
     "data": {
      "text/html": [
       "<div>\n",
       "<style scoped>\n",
       "    .dataframe tbody tr th:only-of-type {\n",
       "        vertical-align: middle;\n",
       "    }\n",
       "\n",
       "    .dataframe tbody tr th {\n",
       "        vertical-align: top;\n",
       "    }\n",
       "\n",
       "    .dataframe thead th {\n",
       "        text-align: right;\n",
       "    }\n",
       "</style>\n",
       "<table border=\"1\" class=\"dataframe\">\n",
       "  <thead>\n",
       "    <tr style=\"text-align: right;\">\n",
       "      <th></th>\n",
       "      <th>Gene</th>\n",
       "      <th>Average</th>\n",
       "      <th>Normalised avg</th>\n",
       "      <th>3UTR</th>\n",
       "      <th>5UTR</th>\n",
       "      <th>Quintile</th>\n",
       "      <th>Tertile</th>\n",
       "      <th>3UTR MFE</th>\n",
       "      <th>3UTRL</th>\n",
       "      <th>3UTRK</th>\n",
       "      <th>5UTRK</th>\n",
       "    </tr>\n",
       "  </thead>\n",
       "  <tbody>\n",
       "    <tr>\n",
       "      <th>0</th>\n",
       "      <td>atpA</td>\n",
       "      <td>11.88</td>\n",
       "      <td>0.832</td>\n",
       "      <td>tttttaattaagtaggaactcggtatatgctcttttggggtcttat...</td>\n",
       "      <td>attttaatgcttatgctatcttttttatttagtccataaaaccttt...</td>\n",
       "      <td>5</td>\n",
       "      <td>3</td>\n",
       "      <td>-31.3</td>\n",
       "      <td>185</td>\n",
       "      <td>[ttt, ttt, ttt, tta, taa, aat, att, tta, taa, ...</td>\n",
       "      <td>[att, ttt, ttt, tta, taa, aat, atg, tgc, gct, ...</td>\n",
       "    </tr>\n",
       "    <tr>\n",
       "      <th>1</th>\n",
       "      <td>atpB</td>\n",
       "      <td>11.62</td>\n",
       "      <td>0.814</td>\n",
       "      <td>ttggctctttaagaagaaaacaacttaatggtgtccaaatatttat...</td>\n",
       "      <td>tcatattttaacttattttacttaaattcttacgtataaaccccga...</td>\n",
       "      <td>5</td>\n",
       "      <td>3</td>\n",
       "      <td>-4.9</td>\n",
       "      <td>70</td>\n",
       "      <td>[ttg, tgg, ggc, gct, ctc, tct, ctt, ttt, tta, ...</td>\n",
       "      <td>[tca, cat, ata, tat, att, ttt, ttt, tta, taa, ...</td>\n",
       "    </tr>\n",
       "    <tr>\n",
       "      <th>2</th>\n",
       "      <td>atpE</td>\n",
       "      <td>11.36</td>\n",
       "      <td>0.796</td>\n",
       "      <td>ttagatctatgtatttacccaaagagtatactgttcaactctatca...</td>\n",
       "      <td>aataaaaaaaaataaaacttctaaaagcgataaagctagaacattc...</td>\n",
       "      <td>4</td>\n",
       "      <td>3</td>\n",
       "      <td>-30.1</td>\n",
       "      <td>132</td>\n",
       "      <td>[tta, tag, aga, gat, atc, tct, cta, tat, atg, ...</td>\n",
       "      <td>[aat, ata, taa, aaa, aaa, aaa, aaa, aaa, aaa, ...</td>\n",
       "    </tr>\n",
       "    <tr>\n",
       "      <th>3</th>\n",
       "      <td>atpF</td>\n",
       "      <td>9.68</td>\n",
       "      <td>0.678</td>\n",
       "      <td>tttttaataaagcttactaacgaattacactaactttactgtattt...</td>\n",
       "      <td>aaataaatttgacttagcttaaatttcagtatatttatatacacaa...</td>\n",
       "      <td>3</td>\n",
       "      <td>2</td>\n",
       "      <td>-230.6</td>\n",
       "      <td>628</td>\n",
       "      <td>[ttt, ttt, ttt, tta, taa, aat, ata, taa, aaa, ...</td>\n",
       "      <td>[aaa, aat, ata, taa, aaa, aat, att, ttt, ttg, ...</td>\n",
       "    </tr>\n",
       "    <tr>\n",
       "      <th>4</th>\n",
       "      <td>atpH</td>\n",
       "      <td>13.85</td>\n",
       "      <td>0.971</td>\n",
       "      <td>ttttaaatttacatgttgtaaaggatatctatagaaatgggagtta...</td>\n",
       "      <td>tcggataaaacatattatgaccgtataatgtttttccaccattgaa...</td>\n",
       "      <td>5</td>\n",
       "      <td>3</td>\n",
       "      <td>-206.4</td>\n",
       "      <td>986</td>\n",
       "      <td>[ttt, ttt, tta, taa, aaa, aat, att, ttt, tta, ...</td>\n",
       "      <td>[tcg, cgg, gga, gat, ata, taa, aaa, aaa, aac, ...</td>\n",
       "    </tr>\n",
       "  </tbody>\n",
       "</table>\n",
       "</div>"
      ],
      "text/plain": [
       "   Gene  Average  Normalised avg  \\\n",
       "0  atpA    11.88           0.832   \n",
       "1  atpB    11.62           0.814   \n",
       "2  atpE    11.36           0.796   \n",
       "3  atpF     9.68           0.678   \n",
       "4  atpH    13.85           0.971   \n",
       "\n",
       "                                                3UTR  \\\n",
       "0  tttttaattaagtaggaactcggtatatgctcttttggggtcttat...   \n",
       "1  ttggctctttaagaagaaaacaacttaatggtgtccaaatatttat...   \n",
       "2  ttagatctatgtatttacccaaagagtatactgttcaactctatca...   \n",
       "3  tttttaataaagcttactaacgaattacactaactttactgtattt...   \n",
       "4  ttttaaatttacatgttgtaaaggatatctatagaaatgggagtta...   \n",
       "\n",
       "                                                5UTR  Quintile  Tertile  \\\n",
       "0  attttaatgcttatgctatcttttttatttagtccataaaaccttt...         5        3   \n",
       "1  tcatattttaacttattttacttaaattcttacgtataaaccccga...         5        3   \n",
       "2  aataaaaaaaaataaaacttctaaaagcgataaagctagaacattc...         4        3   \n",
       "3  aaataaatttgacttagcttaaatttcagtatatttatatacacaa...         3        2   \n",
       "4  tcggataaaacatattatgaccgtataatgtttttccaccattgaa...         5        3   \n",
       "\n",
       "   3UTR MFE  3UTRL                                              3UTRK  \\\n",
       "0     -31.3    185  [ttt, ttt, ttt, tta, taa, aat, att, tta, taa, ...   \n",
       "1      -4.9     70  [ttg, tgg, ggc, gct, ctc, tct, ctt, ttt, tta, ...   \n",
       "2     -30.1    132  [tta, tag, aga, gat, atc, tct, cta, tat, atg, ...   \n",
       "3    -230.6    628  [ttt, ttt, ttt, tta, taa, aat, ata, taa, aaa, ...   \n",
       "4    -206.4    986  [ttt, ttt, tta, taa, aaa, aat, att, ttt, tta, ...   \n",
       "\n",
       "                                               5UTRK  \n",
       "0  [att, ttt, ttt, tta, taa, aat, atg, tgc, gct, ...  \n",
       "1  [tca, cat, ata, tat, att, ttt, ttt, tta, taa, ...  \n",
       "2  [aat, ata, taa, aaa, aaa, aaa, aaa, aaa, aaa, ...  \n",
       "3  [aaa, aat, ata, taa, aaa, aat, att, ttt, ttg, ...  \n",
       "4  [tcg, cgg, gga, gat, ata, taa, aaa, aaa, aac, ...  "
      ]
     },
     "execution_count": 13,
     "metadata": {},
     "output_type": "execute_result"
    }
   ],
   "source": [
    "# The addition of 2 columns to our dataset, 3UTRK and 5UTRK, can be seen here\n",
    "data.head()"
   ]
  },
  {
   "cell_type": "code",
   "execution_count": 14,
   "metadata": {},
   "outputs": [],
   "source": [
    "# This creates a new column containing both 3' and 5' UTR sequence information\n",
    "data[\"Combined\"] = data[\"3UTRK\"] + data[\"5UTRK\"]"
   ]
  },
  {
   "cell_type": "code",
   "execution_count": 15,
   "metadata": {},
   "outputs": [],
   "source": [
    "# This function changes the way the k-mers are stored so they can be read together\n",
    "kmer_sentences = list(data['Combined'])\n",
    "for e in range(len(kmer_sentences)):\n",
    "    kmer_sentences[e] = ' '.join(kmer_sentences[e])"
   ]
  },
  {
   "cell_type": "code",
   "execution_count": 35,
   "metadata": {},
   "outputs": [
    {
     "name": "stdout",
     "output_type": "stream",
     "text": [
      "taa aaa aag agt gtt tta taa aat ata taa aag aga gat att ttt ttt tta taa aat att ttt tta taa aag agt gtt ttc tct cta tat ata tat att tta tat atc tca caa aac act cta tac act ctt tta tac act cta tag agt gtt ttg tga gat ata taa aat ata tat ata tag aga gaa aac act ctt tta taa aaa aat ata tat ata taa aaa aaa aag agt gtt ttt ttt tta taa aat att ttt ttt ttt ttc tct ctt tta taa aat ata tat atg tgt gta tag agt gtt ttg tgg ggc gca cag agt gtt tta tat att ttc tct cta taa aaa aat att tta taa aaa aac act cta tag agg ggt gta taa aaa aaa aag aga gat att ttt ttc tca cac act ctt ttc tct ctt ttt ttt tta tag agc gct cta tag aga gaa aaa aaa aaa aaa aaa aag aga aaa aaa aaa aat atg tgt gta taa aat ata taa aaa aaa aat att ttc tct ctt tta tac acc cca caa aat att tta tat att ttg tgg gga gaa aaa aag aga gat ata tat att tta taa aat ata tat att ttt ttt ttt tta taa aat ata taa aat ata taa aac acc cca cac act cta tat ata taa aaa aat ata taa aat atg tga gac acc cca cag agt gtt tta tat att tta tat atc tct cta tat att ttt ttt ttt ttt ttt tta taa aaa aac aca caa aat att ttg tgt gta tac act ctt tta tac acg cgt gta tat att tta tat ata tat att ttg tgc gct ctg tgt gtg tgc gca cat atg tgt gtg tga gac aca cag aga gaa aag aga gaa aat ata tat atg tgg ggt gtg tga gaa aat ata tac aca caa aaa aag aga gat ata tag agt gtt ttc tct ctc tct cta tac acc cct cta taa aaa aaa aag agc gcg cga gat att tta tac aca cag agt gta tat att tta taa aaa aac aca cag agg ggt gtg tga gag agt gtc tcc cct ctt ttt tta taa aaa aaa aaa aag agg ggt gtg tgg ggt gta taa aag aga gat att tta tat ata tag agc gca cat att ttc tcc ccc cca caa aaa aaa aaa aat atg tga gat atg tgt gta tat ata tat att ttt ttg tgc gca caa aag agc gca caa aag aga gaa aac aca caa aat att ttc tct cta tag agc gct ctt ttt tta tag agc gca cag agt gta tat att tta tag agg gga gaa aac act ctc tcc cca cat ata tat att ttt ttg tga gag agt gtg tgt gtc tct ctc tct ctt ttt ttt ttt ttt ttg tgg gga gat ata taa aac act ctt tta tat atg tgc gct ctg tgt gtt ttt tta taa aac aca cag agc gcc cct ctc tca cac aca cag agt gtt ttt ttg tgc gcc cca\n"
     ]
    }
   ],
   "source": [
    "# An example of how the k-mers look\n",
    "print(kmer_sentences[5])"
   ]
  },
  {
   "cell_type": "code",
   "execution_count": 17,
   "metadata": {},
   "outputs": [
    {
     "name": "stdout",
     "output_type": "stream",
     "text": [
      "(67, 29911)\n"
     ]
    }
   ],
   "source": [
    "# This will now count the frequency of each k-mer in the UTR data, to see what is most common\n",
    "cv = CountVectorizer(ngram_range=(8,8))\n",
    "X = cv.fit_transform(kmer_sentences)\n",
    "print(X.shape)"
   ]
  },
  {
   "cell_type": "code",
   "execution_count": 18,
   "metadata": {},
   "outputs": [
    {
     "data": {
      "text/html": [
       "<div>\n",
       "<style scoped>\n",
       "    .dataframe tbody tr th:only-of-type {\n",
       "        vertical-align: middle;\n",
       "    }\n",
       "\n",
       "    .dataframe tbody tr th {\n",
       "        vertical-align: top;\n",
       "    }\n",
       "\n",
       "    .dataframe thead th {\n",
       "        text-align: right;\n",
       "    }\n",
       "</style>\n",
       "<table border=\"1\" class=\"dataframe\">\n",
       "  <thead>\n",
       "    <tr style=\"text-align: right;\">\n",
       "      <th></th>\n",
       "      <th>Gene</th>\n",
       "      <th>Average</th>\n",
       "      <th>Normalised avg</th>\n",
       "      <th>3UTR</th>\n",
       "      <th>5UTR</th>\n",
       "      <th>Quintile</th>\n",
       "      <th>Tertile</th>\n",
       "      <th>3UTR MFE</th>\n",
       "      <th>3UTRL</th>\n",
       "      <th>3UTRK</th>\n",
       "      <th>5UTRK</th>\n",
       "      <th>Combined</th>\n",
       "    </tr>\n",
       "  </thead>\n",
       "  <tbody>\n",
       "    <tr>\n",
       "      <th>0</th>\n",
       "      <td>atpA</td>\n",
       "      <td>11.88</td>\n",
       "      <td>0.832</td>\n",
       "      <td>tttttaattaagtaggaactcggtatatgctcttttggggtcttat...</td>\n",
       "      <td>attttaatgcttatgctatcttttttatttagtccataaaaccttt...</td>\n",
       "      <td>5</td>\n",
       "      <td>3</td>\n",
       "      <td>-31.3</td>\n",
       "      <td>185</td>\n",
       "      <td>[ttt, ttt, ttt, tta, taa, aat, att, tta, taa, ...</td>\n",
       "      <td>[att, ttt, ttt, tta, taa, aat, atg, tgc, gct, ...</td>\n",
       "      <td>[ttt, ttt, ttt, tta, taa, aat, att, tta, taa, ...</td>\n",
       "    </tr>\n",
       "    <tr>\n",
       "      <th>1</th>\n",
       "      <td>atpB</td>\n",
       "      <td>11.62</td>\n",
       "      <td>0.814</td>\n",
       "      <td>ttggctctttaagaagaaaacaacttaatggtgtccaaatatttat...</td>\n",
       "      <td>tcatattttaacttattttacttaaattcttacgtataaaccccga...</td>\n",
       "      <td>5</td>\n",
       "      <td>3</td>\n",
       "      <td>-4.9</td>\n",
       "      <td>70</td>\n",
       "      <td>[ttg, tgg, ggc, gct, ctc, tct, ctt, ttt, tta, ...</td>\n",
       "      <td>[tca, cat, ata, tat, att, ttt, ttt, tta, taa, ...</td>\n",
       "      <td>[ttg, tgg, ggc, gct, ctc, tct, ctt, ttt, tta, ...</td>\n",
       "    </tr>\n",
       "    <tr>\n",
       "      <th>2</th>\n",
       "      <td>atpE</td>\n",
       "      <td>11.36</td>\n",
       "      <td>0.796</td>\n",
       "      <td>ttagatctatgtatttacccaaagagtatactgttcaactctatca...</td>\n",
       "      <td>aataaaaaaaaataaaacttctaaaagcgataaagctagaacattc...</td>\n",
       "      <td>4</td>\n",
       "      <td>3</td>\n",
       "      <td>-30.1</td>\n",
       "      <td>132</td>\n",
       "      <td>[tta, tag, aga, gat, atc, tct, cta, tat, atg, ...</td>\n",
       "      <td>[aat, ata, taa, aaa, aaa, aaa, aaa, aaa, aaa, ...</td>\n",
       "      <td>[tta, tag, aga, gat, atc, tct, cta, tat, atg, ...</td>\n",
       "    </tr>\n",
       "    <tr>\n",
       "      <th>3</th>\n",
       "      <td>atpF</td>\n",
       "      <td>9.68</td>\n",
       "      <td>0.678</td>\n",
       "      <td>tttttaataaagcttactaacgaattacactaactttactgtattt...</td>\n",
       "      <td>aaataaatttgacttagcttaaatttcagtatatttatatacacaa...</td>\n",
       "      <td>3</td>\n",
       "      <td>2</td>\n",
       "      <td>-230.6</td>\n",
       "      <td>628</td>\n",
       "      <td>[ttt, ttt, ttt, tta, taa, aat, ata, taa, aaa, ...</td>\n",
       "      <td>[aaa, aat, ata, taa, aaa, aat, att, ttt, ttg, ...</td>\n",
       "      <td>[ttt, ttt, ttt, tta, taa, aat, ata, taa, aaa, ...</td>\n",
       "    </tr>\n",
       "    <tr>\n",
       "      <th>4</th>\n",
       "      <td>atpH</td>\n",
       "      <td>13.85</td>\n",
       "      <td>0.971</td>\n",
       "      <td>ttttaaatttacatgttgtaaaggatatctatagaaatgggagtta...</td>\n",
       "      <td>tcggataaaacatattatgaccgtataatgtttttccaccattgaa...</td>\n",
       "      <td>5</td>\n",
       "      <td>3</td>\n",
       "      <td>-206.4</td>\n",
       "      <td>986</td>\n",
       "      <td>[ttt, ttt, tta, taa, aaa, aat, att, ttt, tta, ...</td>\n",
       "      <td>[tcg, cgg, gga, gat, ata, taa, aaa, aaa, aac, ...</td>\n",
       "      <td>[ttt, ttt, tta, taa, aaa, aat, att, ttt, tta, ...</td>\n",
       "    </tr>\n",
       "  </tbody>\n",
       "</table>\n",
       "</div>"
      ],
      "text/plain": [
       "   Gene  Average  Normalised avg  \\\n",
       "0  atpA    11.88           0.832   \n",
       "1  atpB    11.62           0.814   \n",
       "2  atpE    11.36           0.796   \n",
       "3  atpF     9.68           0.678   \n",
       "4  atpH    13.85           0.971   \n",
       "\n",
       "                                                3UTR  \\\n",
       "0  tttttaattaagtaggaactcggtatatgctcttttggggtcttat...   \n",
       "1  ttggctctttaagaagaaaacaacttaatggtgtccaaatatttat...   \n",
       "2  ttagatctatgtatttacccaaagagtatactgttcaactctatca...   \n",
       "3  tttttaataaagcttactaacgaattacactaactttactgtattt...   \n",
       "4  ttttaaatttacatgttgtaaaggatatctatagaaatgggagtta...   \n",
       "\n",
       "                                                5UTR  Quintile  Tertile  \\\n",
       "0  attttaatgcttatgctatcttttttatttagtccataaaaccttt...         5        3   \n",
       "1  tcatattttaacttattttacttaaattcttacgtataaaccccga...         5        3   \n",
       "2  aataaaaaaaaataaaacttctaaaagcgataaagctagaacattc...         4        3   \n",
       "3  aaataaatttgacttagcttaaatttcagtatatttatatacacaa...         3        2   \n",
       "4  tcggataaaacatattatgaccgtataatgtttttccaccattgaa...         5        3   \n",
       "\n",
       "   3UTR MFE  3UTRL                                              3UTRK  \\\n",
       "0     -31.3    185  [ttt, ttt, ttt, tta, taa, aat, att, tta, taa, ...   \n",
       "1      -4.9     70  [ttg, tgg, ggc, gct, ctc, tct, ctt, ttt, tta, ...   \n",
       "2     -30.1    132  [tta, tag, aga, gat, atc, tct, cta, tat, atg, ...   \n",
       "3    -230.6    628  [ttt, ttt, ttt, tta, taa, aat, ata, taa, aaa, ...   \n",
       "4    -206.4    986  [ttt, ttt, tta, taa, aaa, aat, att, ttt, tta, ...   \n",
       "\n",
       "                                               5UTRK  \\\n",
       "0  [att, ttt, ttt, tta, taa, aat, atg, tgc, gct, ...   \n",
       "1  [tca, cat, ata, tat, att, ttt, ttt, tta, taa, ...   \n",
       "2  [aat, ata, taa, aaa, aaa, aaa, aaa, aaa, aaa, ...   \n",
       "3  [aaa, aat, ata, taa, aaa, aat, att, ttt, ttg, ...   \n",
       "4  [tcg, cgg, gga, gat, ata, taa, aaa, aaa, aac, ...   \n",
       "\n",
       "                                            Combined  \n",
       "0  [ttt, ttt, ttt, tta, taa, aat, att, tta, taa, ...  \n",
       "1  [ttg, tgg, ggc, gct, ctc, tct, ctt, ttt, tta, ...  \n",
       "2  [tta, tag, aga, gat, atc, tct, cta, tat, atg, ...  \n",
       "3  [ttt, ttt, ttt, tta, taa, aat, ata, taa, aaa, ...  \n",
       "4  [ttt, ttt, tta, taa, aaa, aat, att, ttt, tta, ...  "
      ]
     },
     "execution_count": 18,
     "metadata": {},
     "output_type": "execute_result"
    }
   ],
   "source": [
    "# The combined column contains our sequence information ready to be analysed by our model\n",
    "data.head()"
   ]
  },
  {
   "cell_type": "code",
   "execution_count": 19,
   "metadata": {},
   "outputs": [],
   "source": [
    "# This sets the prediction target as tertile of expression for our machine learning algorithms\n",
    "y = data[['Tertile']]"
   ]
  },
  {
   "cell_type": "code",
   "execution_count": 20,
   "metadata": {},
   "outputs": [],
   "source": [
    "# We split the data into 80% for training, and 20% for testing our algorithms\n",
    "from sklearn.model_selection import train_test_split\n",
    "X_train, X_test, y_train, y_test = train_test_split(X, y, test_size = 0.20, random_state=1)"
   ]
  },
  {
   "cell_type": "code",
   "execution_count": 21,
   "metadata": {},
   "outputs": [
    {
     "name": "stdout",
     "output_type": "stream",
     "text": [
      "(53, 29911)\n",
      "(53, 1)\n",
      "(14, 29911)\n",
      "(14, 1)\n"
     ]
    }
   ],
   "source": [
    "print(X_train.shape)\n",
    "print(y_train.shape)\n",
    "print(X_test.shape)\n",
    "print(y_test.shape)"
   ]
  },
  {
   "cell_type": "code",
   "execution_count": null,
   "metadata": {},
   "outputs": [],
   "source": [
    "# We will now start to fit our machine learning models to the data"
   ]
  },
  {
   "cell_type": "code",
   "execution_count": 22,
   "metadata": {},
   "outputs": [
    {
     "data": {
      "text/plain": [
       "MultinomialNB(alpha=0.0001, class_prior=None, fit_prior=True)"
      ]
     },
     "execution_count": 22,
     "metadata": {},
     "output_type": "execute_result"
    }
   ],
   "source": [
    "#System 1 model 1, multinomial naive Bayes\n",
    "from sklearn.naive_bayes import MultinomialNB\n",
    "classifier = MultinomialNB(alpha = 0.0001)\n",
    "classifier.fit(X_train, np.ravel(y_train))"
   ]
  },
  {
   "cell_type": "code",
   "execution_count": 23,
   "metadata": {},
   "outputs": [
    {
     "name": "stdout",
     "output_type": "stream",
     "text": [
      "(14,)\n"
     ]
    }
   ],
   "source": [
    "# This command will predict the tertile of expression for the test dataset\n",
    "y_pred = classifier.predict(X_test)\n",
    "print(y_pred.shape)"
   ]
  },
  {
   "cell_type": "code",
   "execution_count": 61,
   "metadata": {},
   "outputs": [
    {
     "name": "stdout",
     "output_type": "stream",
     "text": [
      "System 1 model 1 has an accuracy of 71.0%\n",
      "System 1 model 1 has a precision of 81.0%\n",
      "System 1 model 1 has a recall score of 71.0%\n"
     ]
    }
   ],
   "source": [
    "# Based on the above operation, we can now determine the performance of our first model\n",
    "\n",
    "print(\"System 1 model 1 has an accuracy of \" + str(round((accuracy_score(y_test, y_pred)),2)*100) +\"%\")\n",
    "print(\"System 1 model 1 has a precision of \" + str(round((precision_score(y_test, y_pred, average='weighted')),2)*100) +\"%\")\n",
    "print(\"System 1 model 1 has a recall score of \" + str(round((recall_score(y_test, y_pred, average='weighted')),2)*100) +\"%\")"
   ]
  },
  {
   "cell_type": "code",
   "execution_count": 60,
   "metadata": {},
   "outputs": [
    {
     "name": "stdout",
     "output_type": "stream",
     "text": [
      "System 1 model 2 has an accuracy of 40.0%\n",
      "System 1 model 2 has a precision of 50.0%\n",
      "System 1 model 2 has a recall score of 40.0%\n"
     ]
    }
   ],
   "source": [
    "#System 1 model 2, random forest classifier\n",
    "classifier2 = RandomForestClassifier()\n",
    "classifier2.fit(X_train, np.ravel(y_train))\n",
    "y_pred2 = classifier2.predict(X_test)\n",
    "#\n",
    "print(\"System 1 model 2 has an accuracy of \" + str(round((accuracy_score(y_test, y_pred2)),1)*100) +\"%\")\n",
    "print(\"System 1 model 2 has a precision of \" + str(round((precision_score(y_test, y_pred2, average='weighted')),1)*100) +\"%\")\n",
    "print(\"System 1 model 2 has a recall score of \" + str(round((recall_score(y_test, y_pred2, average='weighted')),1)*100) +\"%\")"
   ]
  },
  {
   "cell_type": "code",
   "execution_count": 26,
   "metadata": {},
   "outputs": [],
   "source": [
    "####################### Linear regression using 3' UTR length and MFE #########################"
   ]
  },
  {
   "cell_type": "code",
   "execution_count": null,
   "metadata": {},
   "outputs": [],
   "source": [
    "# We will now use the length of the 3' UTRs and their minimum free energies (of secondary structure formation)\n",
    "# The prediction target is still tertile of expression"
   ]
  },
  {
   "cell_type": "code",
   "execution_count": 27,
   "metadata": {},
   "outputs": [],
   "source": [
    "#regression model: len of 3UTR, MFE, and tertile\n",
    "X2 = data[['3UTRL','3UTR MFE']]"
   ]
  },
  {
   "cell_type": "code",
   "execution_count": 28,
   "metadata": {},
   "outputs": [],
   "source": [
    "# Setting the prediction target as tertile of expression again\n",
    "y2 = data['Tertile']"
   ]
  },
  {
   "cell_type": "code",
   "execution_count": 29,
   "metadata": {},
   "outputs": [],
   "source": [
    "# Splitting the data into training and test sets again\n",
    "from sklearn.model_selection import train_test_split\n",
    "X_train2, X_test2, y_train2, y_test2 = train_test_split(X2, y2, test_size = 0.20, random_state=1)"
   ]
  },
  {
   "cell_type": "code",
   "execution_count": 30,
   "metadata": {},
   "outputs": [
    {
     "data": {
      "text/plain": [
       "RandomForestClassifier(bootstrap=True, ccp_alpha=0.0, class_weight=None,\n",
       "                       criterion='gini', max_depth=None, max_features='auto',\n",
       "                       max_leaf_nodes=None, max_samples=None,\n",
       "                       min_impurity_decrease=0.0, min_impurity_split=None,\n",
       "                       min_samples_leaf=1, min_samples_split=2,\n",
       "                       min_weight_fraction_leaf=0.0, n_estimators=100,\n",
       "                       n_jobs=None, oob_score=False, random_state=None,\n",
       "                       verbose=0, warm_start=False)"
      ]
     },
     "execution_count": 30,
     "metadata": {},
     "output_type": "execute_result"
    }
   ],
   "source": [
    "#System 2 model 1, random forest classifier\n",
    "classifier3 = RandomForestClassifier()\n",
    "classifier3.fit(X_train2, np.ravel(y_train2))"
   ]
  },
  {
   "cell_type": "code",
   "execution_count": 63,
   "metadata": {},
   "outputs": [
    {
     "name": "stdout",
     "output_type": "stream",
     "text": [
      "System 2 model 1 has an accuracy of 50.0%\n",
      "System 2 model 1 has a precision of 50.0%\n",
      "System 2 model 1 has a recall score of 50.0%\n"
     ]
    }
   ],
   "source": [
    "y_pred3 = classifier3.predict(X_test2)\n",
    "print(\"System 2 model 1 has an accuracy of \" + str(round((accuracy_score(y_test, y_pred3)),1)*100) +\"%\")\n",
    "print(\"System 2 model 1 has a precision of \" + str(round((precision_score(y_test, y_pred3, average='weighted')),1)*100) +\"%\")\n",
    "print(\"System 2 model 1 has a recall score of \" + str(round((recall_score(y_test, y_pred3, average='weighted')),1)*100) +\"%\")"
   ]
  },
  {
   "cell_type": "code",
   "execution_count": 32,
   "metadata": {},
   "outputs": [
    {
     "name": "stdout",
     "output_type": "stream",
     "text": [
      "Predicted  1  2  3\n",
      "Actual            \n",
      "1          2  1  1\n",
      "2          2  3  1\n",
      "3          0  2  2\n"
     ]
    }
   ],
   "source": [
    "# A confusion matrix to represent our results\n",
    "c3confusion = pd.crosstab(y_test2,y_pred3, rownames=['Actual'], colnames=['Predicted'])\n",
    "print(c3confusion)            "
   ]
  },
  {
   "cell_type": "code",
   "execution_count": 33,
   "metadata": {},
   "outputs": [],
   "source": [
    "#We cannot use a MultinomialNB model for this as the data contains negative values"
   ]
  }
 ],
 "metadata": {
  "kernelspec": {
   "display_name": "Python 3",
   "language": "python",
   "name": "python3"
  },
  "language_info": {
   "codemirror_mode": {
    "name": "ipython",
    "version": 3
   },
   "file_extension": ".py",
   "mimetype": "text/x-python",
   "name": "python",
   "nbconvert_exporter": "python",
   "pygments_lexer": "ipython3",
   "version": "3.7.6"
  }
 },
 "nbformat": 4,
 "nbformat_minor": 4
}
