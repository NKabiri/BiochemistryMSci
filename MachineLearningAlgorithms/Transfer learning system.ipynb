{
 "cells": [
  {
   "cell_type": "code",
   "execution_count": 2,
   "metadata": {},
   "outputs": [],
   "source": [
    "# The programming language we are using is python\n",
    "# We require the use of some functions not already part of this language\n",
    "# Instead of writing them from scratch, we can import them as part of external libraries\n",
    "import pandas as pd\n",
    "import numpy as np\n",
    "import seaborn as sns\n",
    "import matplotlib.pyplot as plt\n",
    "%matplotlib inline\n",
    "import os\n",
    "import random\n",
    "from sklearn.model_selection import train_test_split\n",
    "from sklearn.naive_bayes import MultinomialNB\n",
    "from sklearn.feature_extraction.text import CountVectorizer\n",
    "from sklearn.metrics import accuracy_score, precision_score, recall_score\n",
    "from sklearn.linear_model import LinearRegression\n",
    "from sklearn.ensemble import RandomForestClassifier"
   ]
  },
  {
   "cell_type": "code",
   "execution_count": 3,
   "metadata": {},
   "outputs": [],
   "source": [
    "# This is the file that contains the nuclear genome data\n",
    "nuclear = pd.read_csv(\"C:/Users/natha/Desktop/MSCi/nucleardata.csv\")"
   ]
  },
  {
   "cell_type": "code",
   "execution_count": 4,
   "metadata": {},
   "outputs": [
    {
     "data": {
      "text/html": [
       "<div>\n",
       "<style scoped>\n",
       "    .dataframe tbody tr th:only-of-type {\n",
       "        vertical-align: middle;\n",
       "    }\n",
       "\n",
       "    .dataframe tbody tr th {\n",
       "        vertical-align: top;\n",
       "    }\n",
       "\n",
       "    .dataframe thead th {\n",
       "        text-align: right;\n",
       "    }\n",
       "</style>\n",
       "<table border=\"1\" class=\"dataframe\">\n",
       "  <thead>\n",
       "    <tr style=\"text-align: right;\">\n",
       "      <th></th>\n",
       "      <th>Transcript name</th>\n",
       "      <th>5UTR</th>\n",
       "      <th>3UTR</th>\n",
       "      <th>Mettler C0</th>\n",
       "      <th>Tertile</th>\n",
       "    </tr>\n",
       "  </thead>\n",
       "  <tbody>\n",
       "    <tr>\n",
       "      <th>0</th>\n",
       "      <td>ADC1</td>\n",
       "      <td>ATAAAGGTCGGGCCGGTTGTTTACAATGAAGGGCACAGCCGCGCCA...</td>\n",
       "      <td>AGTGGACTGTCGGCATAAGAATGCTGTGCTAGGAATAGGTACCGTG...</td>\n",
       "      <td>9.527054</td>\n",
       "      <td>2</td>\n",
       "    </tr>\n",
       "    <tr>\n",
       "      <th>1</th>\n",
       "      <td>LHCSR1</td>\n",
       "      <td>AGAGTCATTCCCCAACCCACTTCTCAGCTTGCACCTCCTTGTGCAC...</td>\n",
       "      <td>GTGCCTCTTCCTCGATCGTGATCTGCTTCACGGTTTGGTCGCGGGC...</td>\n",
       "      <td>12.158357</td>\n",
       "      <td>3</td>\n",
       "    </tr>\n",
       "    <tr>\n",
       "      <th>2</th>\n",
       "      <td>GRX2</td>\n",
       "      <td>CACATTGGCACTGGAGTTTATTTGAGGCGATACATGCCTTCTCATG...</td>\n",
       "      <td>GGCGAGGGCGGCGGGGTGGGCAGCAGGTTGTGAGGCGCGTGCAGGG...</td>\n",
       "      <td>14.064211</td>\n",
       "      <td>3</td>\n",
       "    </tr>\n",
       "    <tr>\n",
       "      <th>3</th>\n",
       "      <td>TIM16</td>\n",
       "      <td>GCACCAAACTTTCCCTGGGCCCCCCTCTGGGCGCACTCGAAATGCT...</td>\n",
       "      <td>CGAGGCGTGGCGTGAGGTGACAAGCAGGGGCGATGGATGTTGGGGA...</td>\n",
       "      <td>8.464260</td>\n",
       "      <td>2</td>\n",
       "    </tr>\n",
       "    <tr>\n",
       "      <th>4</th>\n",
       "      <td>Cre01.g056200</td>\n",
       "      <td>ACTTGTCAAAACCTTGCAAGGCTTGCGGCAGGCACTGTCCAGTACC...</td>\n",
       "      <td>TGGGTCAGTGGGGCGTGTGTGTGGCCGGCTGCTGGACCCGTGAGCA...</td>\n",
       "      <td>14.582071</td>\n",
       "      <td>3</td>\n",
       "    </tr>\n",
       "  </tbody>\n",
       "</table>\n",
       "</div>"
      ],
      "text/plain": [
       "  Transcript name                                               5UTR  \\\n",
       "0            ADC1  ATAAAGGTCGGGCCGGTTGTTTACAATGAAGGGCACAGCCGCGCCA...   \n",
       "1          LHCSR1  AGAGTCATTCCCCAACCCACTTCTCAGCTTGCACCTCCTTGTGCAC...   \n",
       "2            GRX2  CACATTGGCACTGGAGTTTATTTGAGGCGATACATGCCTTCTCATG...   \n",
       "3           TIM16  GCACCAAACTTTCCCTGGGCCCCCCTCTGGGCGCACTCGAAATGCT...   \n",
       "4   Cre01.g056200  ACTTGTCAAAACCTTGCAAGGCTTGCGGCAGGCACTGTCCAGTACC...   \n",
       "\n",
       "                                                3UTR  Mettler C0  Tertile  \n",
       "0  AGTGGACTGTCGGCATAAGAATGCTGTGCTAGGAATAGGTACCGTG...    9.527054        2  \n",
       "1  GTGCCTCTTCCTCGATCGTGATCTGCTTCACGGTTTGGTCGCGGGC...   12.158357        3  \n",
       "2  GGCGAGGGCGGCGGGGTGGGCAGCAGGTTGTGAGGCGCGTGCAGGG...   14.064211        3  \n",
       "3  CGAGGCGTGGCGTGAGGTGACAAGCAGGGGCGATGGATGTTGGGGA...    8.464260        2  \n",
       "4  TGGGTCAGTGGGGCGTGTGTGTGGCCGGCTGCTGGACCCGTGAGCA...   14.582071        3  "
      ]
     },
     "execution_count": 4,
     "metadata": {},
     "output_type": "execute_result"
    }
   ],
   "source": [
    "# We will preview the first 5 entries to see what they look like\n",
    "nuclear.head()"
   ]
  },
  {
   "cell_type": "code",
   "execution_count": 5,
   "metadata": {},
   "outputs": [
    {
     "name": "stdout",
     "output_type": "stream",
     "text": [
      "<class 'pandas.core.frame.DataFrame'>\n",
      "RangeIndex: 384 entries, 0 to 383\n",
      "Data columns (total 5 columns):\n",
      " #   Column           Non-Null Count  Dtype  \n",
      "---  ------           --------------  -----  \n",
      " 0   Transcript name  384 non-null    object \n",
      " 1   5UTR             384 non-null    object \n",
      " 2   3UTR             384 non-null    object \n",
      " 3   Mettler C0       384 non-null    float64\n",
      " 4   Tertile          384 non-null    int64  \n",
      "dtypes: float64(1), int64(1), object(3)\n",
      "memory usage: 15.1+ KB\n"
     ]
    }
   ],
   "source": [
    "# Confirming we have no empty fields\n",
    "nuclear.info()"
   ]
  },
  {
   "cell_type": "code",
   "execution_count": 6,
   "metadata": {},
   "outputs": [
    {
     "data": {
      "text/plain": [
       "Index(['Transcript name', '5UTR', '3UTR', 'Mettler C0', 'Tertile'], dtype='object')"
      ]
     },
     "execution_count": 6,
     "metadata": {},
     "output_type": "execute_result"
    }
   ],
   "source": [
    "# These are the columns of our data\n",
    "nuclear.keys()"
   ]
  },
  {
   "cell_type": "code",
   "execution_count": 7,
   "metadata": {},
   "outputs": [],
   "source": [
    "# As with the other file, this function will split our DNA sequences into smaller lengths called k-mers for processing\n",
    "def kmerconvert (sequence, k_length):\n",
    "    k_conversion = []\n",
    "    num_kmers = len(sequence) - k_length + 1\n",
    "    \n",
    "    for element in range(num_kmers):\n",
    "        kmer = sequence[element:element + k_length]\n",
    "        k_conversion.append(kmer)\n",
    "        \n",
    "    return k_conversion"
   ]
  },
  {
   "cell_type": "code",
   "execution_count": 8,
   "metadata": {},
   "outputs": [],
   "source": [
    "# Applying this function to our 3' UTRs\n",
    "nuclear['3UTRK'] = nuclear.apply(lambda x: kmerconvert(x['3UTR'], k_length=3), axis=1)"
   ]
  },
  {
   "cell_type": "code",
   "execution_count": 9,
   "metadata": {},
   "outputs": [],
   "source": [
    "# Applying this function to our 5' UTRs\n",
    "nuclear['5UTRK'] = nuclear.apply(lambda x: kmerconvert(x['5UTR'], k_length=3), axis=1)"
   ]
  },
  {
   "cell_type": "code",
   "execution_count": 10,
   "metadata": {},
   "outputs": [
    {
     "data": {
      "text/html": [
       "<div>\n",
       "<style scoped>\n",
       "    .dataframe tbody tr th:only-of-type {\n",
       "        vertical-align: middle;\n",
       "    }\n",
       "\n",
       "    .dataframe tbody tr th {\n",
       "        vertical-align: top;\n",
       "    }\n",
       "\n",
       "    .dataframe thead th {\n",
       "        text-align: right;\n",
       "    }\n",
       "</style>\n",
       "<table border=\"1\" class=\"dataframe\">\n",
       "  <thead>\n",
       "    <tr style=\"text-align: right;\">\n",
       "      <th></th>\n",
       "      <th>Transcript name</th>\n",
       "      <th>5UTR</th>\n",
       "      <th>3UTR</th>\n",
       "      <th>Mettler C0</th>\n",
       "      <th>Tertile</th>\n",
       "      <th>3UTRK</th>\n",
       "      <th>5UTRK</th>\n",
       "    </tr>\n",
       "  </thead>\n",
       "  <tbody>\n",
       "    <tr>\n",
       "      <th>0</th>\n",
       "      <td>ADC1</td>\n",
       "      <td>ATAAAGGTCGGGCCGGTTGTTTACAATGAAGGGCACAGCCGCGCCA...</td>\n",
       "      <td>AGTGGACTGTCGGCATAAGAATGCTGTGCTAGGAATAGGTACCGTG...</td>\n",
       "      <td>9.527054</td>\n",
       "      <td>2</td>\n",
       "      <td>[AGT, GTG, TGG, GGA, GAC, ACT, CTG, TGT, GTC, ...</td>\n",
       "      <td>[ATA, TAA, AAA, AAG, AGG, GGT, GTC, TCG, CGG, ...</td>\n",
       "    </tr>\n",
       "    <tr>\n",
       "      <th>1</th>\n",
       "      <td>LHCSR1</td>\n",
       "      <td>AGAGTCATTCCCCAACCCACTTCTCAGCTTGCACCTCCTTGTGCAC...</td>\n",
       "      <td>GTGCCTCTTCCTCGATCGTGATCTGCTTCACGGTTTGGTCGCGGGC...</td>\n",
       "      <td>12.158357</td>\n",
       "      <td>3</td>\n",
       "      <td>[GTG, TGC, GCC, CCT, CTC, TCT, CTT, TTC, TCC, ...</td>\n",
       "      <td>[AGA, GAG, AGT, GTC, TCA, CAT, ATT, TTC, TCC, ...</td>\n",
       "    </tr>\n",
       "    <tr>\n",
       "      <th>2</th>\n",
       "      <td>GRX2</td>\n",
       "      <td>CACATTGGCACTGGAGTTTATTTGAGGCGATACATGCCTTCTCATG...</td>\n",
       "      <td>GGCGAGGGCGGCGGGGTGGGCAGCAGGTTGTGAGGCGCGTGCAGGG...</td>\n",
       "      <td>14.064211</td>\n",
       "      <td>3</td>\n",
       "      <td>[GGC, GCG, CGA, GAG, AGG, GGG, GGC, GCG, CGG, ...</td>\n",
       "      <td>[CAC, ACA, CAT, ATT, TTG, TGG, GGC, GCA, CAC, ...</td>\n",
       "    </tr>\n",
       "    <tr>\n",
       "      <th>3</th>\n",
       "      <td>TIM16</td>\n",
       "      <td>GCACCAAACTTTCCCTGGGCCCCCCTCTGGGCGCACTCGAAATGCT...</td>\n",
       "      <td>CGAGGCGTGGCGTGAGGTGACAAGCAGGGGCGATGGATGTTGGGGA...</td>\n",
       "      <td>8.464260</td>\n",
       "      <td>2</td>\n",
       "      <td>[CGA, GAG, AGG, GGC, GCG, CGT, GTG, TGG, GGC, ...</td>\n",
       "      <td>[GCA, CAC, ACC, CCA, CAA, AAA, AAC, ACT, CTT, ...</td>\n",
       "    </tr>\n",
       "    <tr>\n",
       "      <th>4</th>\n",
       "      <td>Cre01.g056200</td>\n",
       "      <td>ACTTGTCAAAACCTTGCAAGGCTTGCGGCAGGCACTGTCCAGTACC...</td>\n",
       "      <td>TGGGTCAGTGGGGCGTGTGTGTGGCCGGCTGCTGGACCCGTGAGCA...</td>\n",
       "      <td>14.582071</td>\n",
       "      <td>3</td>\n",
       "      <td>[TGG, GGG, GGT, GTC, TCA, CAG, AGT, GTG, TGG, ...</td>\n",
       "      <td>[ACT, CTT, TTG, TGT, GTC, TCA, CAA, AAA, AAA, ...</td>\n",
       "    </tr>\n",
       "  </tbody>\n",
       "</table>\n",
       "</div>"
      ],
      "text/plain": [
       "  Transcript name                                               5UTR  \\\n",
       "0            ADC1  ATAAAGGTCGGGCCGGTTGTTTACAATGAAGGGCACAGCCGCGCCA...   \n",
       "1          LHCSR1  AGAGTCATTCCCCAACCCACTTCTCAGCTTGCACCTCCTTGTGCAC...   \n",
       "2            GRX2  CACATTGGCACTGGAGTTTATTTGAGGCGATACATGCCTTCTCATG...   \n",
       "3           TIM16  GCACCAAACTTTCCCTGGGCCCCCCTCTGGGCGCACTCGAAATGCT...   \n",
       "4   Cre01.g056200  ACTTGTCAAAACCTTGCAAGGCTTGCGGCAGGCACTGTCCAGTACC...   \n",
       "\n",
       "                                                3UTR  Mettler C0  Tertile  \\\n",
       "0  AGTGGACTGTCGGCATAAGAATGCTGTGCTAGGAATAGGTACCGTG...    9.527054        2   \n",
       "1  GTGCCTCTTCCTCGATCGTGATCTGCTTCACGGTTTGGTCGCGGGC...   12.158357        3   \n",
       "2  GGCGAGGGCGGCGGGGTGGGCAGCAGGTTGTGAGGCGCGTGCAGGG...   14.064211        3   \n",
       "3  CGAGGCGTGGCGTGAGGTGACAAGCAGGGGCGATGGATGTTGGGGA...    8.464260        2   \n",
       "4  TGGGTCAGTGGGGCGTGTGTGTGGCCGGCTGCTGGACCCGTGAGCA...   14.582071        3   \n",
       "\n",
       "                                               3UTRK  \\\n",
       "0  [AGT, GTG, TGG, GGA, GAC, ACT, CTG, TGT, GTC, ...   \n",
       "1  [GTG, TGC, GCC, CCT, CTC, TCT, CTT, TTC, TCC, ...   \n",
       "2  [GGC, GCG, CGA, GAG, AGG, GGG, GGC, GCG, CGG, ...   \n",
       "3  [CGA, GAG, AGG, GGC, GCG, CGT, GTG, TGG, GGC, ...   \n",
       "4  [TGG, GGG, GGT, GTC, TCA, CAG, AGT, GTG, TGG, ...   \n",
       "\n",
       "                                               5UTRK  \n",
       "0  [ATA, TAA, AAA, AAG, AGG, GGT, GTC, TCG, CGG, ...  \n",
       "1  [AGA, GAG, AGT, GTC, TCA, CAT, ATT, TTC, TCC, ...  \n",
       "2  [CAC, ACA, CAT, ATT, TTG, TGG, GGC, GCA, CAC, ...  \n",
       "3  [GCA, CAC, ACC, CCA, CAA, AAA, AAC, ACT, CTT, ...  \n",
       "4  [ACT, CTT, TTG, TGT, GTC, TCA, CAA, AAA, AAA, ...  "
      ]
     },
     "execution_count": 10,
     "metadata": {},
     "output_type": "execute_result"
    }
   ],
   "source": [
    "# We can see the effect of this below\n",
    "nuclear.head()"
   ]
  },
  {
   "cell_type": "code",
   "execution_count": 11,
   "metadata": {},
   "outputs": [],
   "source": [
    "# This will allow our system to input both 3' and 5' UTRs together\n",
    "nuclear[\"Combined\"] = nuclear[\"3UTRK\"] + nuclear[\"5UTRK\"]"
   ]
  },
  {
   "cell_type": "code",
   "execution_count": 12,
   "metadata": {},
   "outputs": [],
   "source": [
    "# This function will combine the k-mers (subsequences of each UTR) into \"sentences\" such that they may be processed in groups\n",
    "kmer_sentences = list(nuclear['Combined'])\n",
    "for e in range(len(kmer_sentences)):\n",
    "    kmer_sentences[e] = ' '.join(kmer_sentences[e])"
   ]
  },
  {
   "cell_type": "code",
   "execution_count": 13,
   "metadata": {},
   "outputs": [
    {
     "name": "stdout",
     "output_type": "stream",
     "text": [
      "(384, 283045)\n"
     ]
    }
   ],
   "source": [
    "# This will count the frequency of each subsequence (k-mer) in each UTR region\n",
    "cv = CountVectorizer(ngram_range=(8,8))\n",
    "X = cv.fit_transform(kmer_sentences)\n",
    "print(X.shape)"
   ]
  },
  {
   "cell_type": "code",
   "execution_count": 14,
   "metadata": {},
   "outputs": [],
   "source": [
    "# Setting the prediction target as tertile of gene expression\n",
    "y = nuclear[['Tertile']]"
   ]
  },
  {
   "cell_type": "code",
   "execution_count": 15,
   "metadata": {},
   "outputs": [],
   "source": [
    "# We will now train 2 classifier algorithms on all of this data\n",
    "# There will be no test/train split because we want to train it with as much data as possible\n",
    "# This means it will make the most accurate predictions on the chloroplast gene dataset"
   ]
  },
  {
   "cell_type": "code",
   "execution_count": 16,
   "metadata": {},
   "outputs": [
    {
     "data": {
      "text/plain": [
       "MultinomialNB(alpha=0.0001, class_prior=None, fit_prior=True)"
      ]
     },
     "execution_count": 16,
     "metadata": {},
     "output_type": "execute_result"
    }
   ],
   "source": [
    "# Training a multinomial naive Bayes classifier\n",
    "#System 3 model 1, multinomial naive Bayes\n",
    "from sklearn.naive_bayes import MultinomialNB\n",
    "nuclearclassifier = MultinomialNB(alpha = 0.0001)\n",
    "nuclearclassifier.fit(X, np.ravel(y))"
   ]
  },
  {
   "cell_type": "code",
   "execution_count": 17,
   "metadata": {},
   "outputs": [
    {
     "data": {
      "text/plain": [
       "RandomForestClassifier(bootstrap=True, ccp_alpha=0.0, class_weight=None,\n",
       "                       criterion='gini', max_depth=None, max_features='auto',\n",
       "                       max_leaf_nodes=None, max_samples=None,\n",
       "                       min_impurity_decrease=0.0, min_impurity_split=None,\n",
       "                       min_samples_leaf=1, min_samples_split=2,\n",
       "                       min_weight_fraction_leaf=0.0, n_estimators=100,\n",
       "                       n_jobs=None, oob_score=False, random_state=None,\n",
       "                       verbose=0, warm_start=False)"
      ]
     },
     "execution_count": 17,
     "metadata": {},
     "output_type": "execute_result"
    }
   ],
   "source": [
    "# Training a random forest classifier\n",
    "# System 3 model 2, random forest \n",
    "from sklearn.ensemble import RandomForestClassifier\n",
    "nuclearclassifier2 = RandomForestClassifier()\n",
    "nuclearclassifier2.fit(X, np.ravel(y))"
   ]
  },
  {
   "cell_type": "code",
   "execution_count": 18,
   "metadata": {},
   "outputs": [],
   "source": [
    "# We will now specify the location of the chloroplast data\n",
    "chloroplast = pd.read_csv(\"C:/Users/natha/Desktop/MSCi/algae.csv\")"
   ]
  },
  {
   "cell_type": "code",
   "execution_count": 19,
   "metadata": {},
   "outputs": [
    {
     "name": "stdout",
     "output_type": "stream",
     "text": [
      "<class 'pandas.core.frame.DataFrame'>\n",
      "RangeIndex: 67 entries, 0 to 66\n",
      "Data columns (total 9 columns):\n",
      " #   Column          Non-Null Count  Dtype  \n",
      "---  ------          --------------  -----  \n",
      " 0   Gene            67 non-null     object \n",
      " 1   Average         67 non-null     float64\n",
      " 2   Normalised avg  67 non-null     float64\n",
      " 3   3UTR            67 non-null     object \n",
      " 4   5UTR            67 non-null     object \n",
      " 5   Quintile        67 non-null     int64  \n",
      " 6   Tertile         67 non-null     int64  \n",
      " 7   3UTR MFE        67 non-null     float64\n",
      " 8   3UTRL           67 non-null     int64  \n",
      "dtypes: float64(3), int64(3), object(3)\n",
      "memory usage: 4.8+ KB\n"
     ]
    }
   ],
   "source": [
    "# We will again preview the data, and check to ensure there are no empty fields\n",
    "chloroplast.head()\n",
    "chloroplast.info()"
   ]
  },
  {
   "cell_type": "code",
   "execution_count": 20,
   "metadata": {},
   "outputs": [],
   "source": [
    "# As above, splitting our 3' UTRs into smaller subsequences\n",
    "chloroplast['3UTRK'] = chloroplast.apply(lambda x: kmerconvert(x['3UTR'], k_length=3), axis=1)"
   ]
  },
  {
   "cell_type": "code",
   "execution_count": 21,
   "metadata": {},
   "outputs": [],
   "source": [
    "# Now the same for our 5' UTRs\n",
    "chloroplast['5UTRK'] = chloroplast.apply(lambda x: kmerconvert(x['5UTR'], k_length=3), axis=1)"
   ]
  },
  {
   "cell_type": "code",
   "execution_count": 22,
   "metadata": {},
   "outputs": [],
   "source": [
    "# Joining the 3' and 5' UTR sequences so that they may be input together into our machine learning systems\n",
    "chloroplast[\"Combined\"] = chloroplast[\"3UTRK\"] + chloroplast[\"5UTRK\"]"
   ]
  },
  {
   "cell_type": "code",
   "execution_count": 23,
   "metadata": {},
   "outputs": [],
   "source": [
    "# This changes the way that the k-mers are stored, as above\n",
    "kmer_sentences2 = list(chloroplast['Combined'])\n",
    "for e in range(len(kmer_sentences2)):\n",
    "    kmer_sentences2[e] = ' '.join(kmer_sentences2[e])"
   ]
  },
  {
   "cell_type": "code",
   "execution_count": 24,
   "metadata": {},
   "outputs": [
    {
     "name": "stdout",
     "output_type": "stream",
     "text": [
      "(67, 283045)\n"
     ]
    }
   ],
   "source": [
    "# We will compute the frequency of each k-mer in the UTRs\n",
    "X2 = cv.transform(kmer_sentences2)\n",
    "print(X2.shape)"
   ]
  },
  {
   "cell_type": "code",
   "execution_count": 25,
   "metadata": {},
   "outputs": [
    {
     "data": {
      "text/html": [
       "<div>\n",
       "<style scoped>\n",
       "    .dataframe tbody tr th:only-of-type {\n",
       "        vertical-align: middle;\n",
       "    }\n",
       "\n",
       "    .dataframe tbody tr th {\n",
       "        vertical-align: top;\n",
       "    }\n",
       "\n",
       "    .dataframe thead th {\n",
       "        text-align: right;\n",
       "    }\n",
       "</style>\n",
       "<table border=\"1\" class=\"dataframe\">\n",
       "  <thead>\n",
       "    <tr style=\"text-align: right;\">\n",
       "      <th></th>\n",
       "      <th>Gene</th>\n",
       "      <th>Average</th>\n",
       "      <th>Normalised avg</th>\n",
       "      <th>3UTR</th>\n",
       "      <th>5UTR</th>\n",
       "      <th>Quintile</th>\n",
       "      <th>Tertile</th>\n",
       "      <th>3UTR MFE</th>\n",
       "      <th>3UTRL</th>\n",
       "      <th>3UTRK</th>\n",
       "      <th>5UTRK</th>\n",
       "      <th>Combined</th>\n",
       "    </tr>\n",
       "  </thead>\n",
       "  <tbody>\n",
       "    <tr>\n",
       "      <th>0</th>\n",
       "      <td>atpA</td>\n",
       "      <td>11.88</td>\n",
       "      <td>0.832</td>\n",
       "      <td>tttttaattaagtaggaactcggtatatgctcttttggggtcttat...</td>\n",
       "      <td>attttaatgcttatgctatcttttttatttagtccataaaaccttt...</td>\n",
       "      <td>5</td>\n",
       "      <td>3</td>\n",
       "      <td>-31.3</td>\n",
       "      <td>185</td>\n",
       "      <td>[ttt, ttt, ttt, tta, taa, aat, att, tta, taa, ...</td>\n",
       "      <td>[att, ttt, ttt, tta, taa, aat, atg, tgc, gct, ...</td>\n",
       "      <td>[ttt, ttt, ttt, tta, taa, aat, att, tta, taa, ...</td>\n",
       "    </tr>\n",
       "    <tr>\n",
       "      <th>1</th>\n",
       "      <td>atpB</td>\n",
       "      <td>11.62</td>\n",
       "      <td>0.814</td>\n",
       "      <td>ttggctctttaagaagaaaacaacttaatggtgtccaaatatttat...</td>\n",
       "      <td>tcatattttaacttattttacttaaattcttacgtataaaccccga...</td>\n",
       "      <td>5</td>\n",
       "      <td>3</td>\n",
       "      <td>-4.9</td>\n",
       "      <td>70</td>\n",
       "      <td>[ttg, tgg, ggc, gct, ctc, tct, ctt, ttt, tta, ...</td>\n",
       "      <td>[tca, cat, ata, tat, att, ttt, ttt, tta, taa, ...</td>\n",
       "      <td>[ttg, tgg, ggc, gct, ctc, tct, ctt, ttt, tta, ...</td>\n",
       "    </tr>\n",
       "    <tr>\n",
       "      <th>2</th>\n",
       "      <td>atpE</td>\n",
       "      <td>11.36</td>\n",
       "      <td>0.796</td>\n",
       "      <td>ttagatctatgtatttacccaaagagtatactgttcaactctatca...</td>\n",
       "      <td>aataaaaaaaaataaaacttctaaaagcgataaagctagaacattc...</td>\n",
       "      <td>4</td>\n",
       "      <td>3</td>\n",
       "      <td>-30.1</td>\n",
       "      <td>132</td>\n",
       "      <td>[tta, tag, aga, gat, atc, tct, cta, tat, atg, ...</td>\n",
       "      <td>[aat, ata, taa, aaa, aaa, aaa, aaa, aaa, aaa, ...</td>\n",
       "      <td>[tta, tag, aga, gat, atc, tct, cta, tat, atg, ...</td>\n",
       "    </tr>\n",
       "    <tr>\n",
       "      <th>3</th>\n",
       "      <td>atpF</td>\n",
       "      <td>9.68</td>\n",
       "      <td>0.678</td>\n",
       "      <td>tttttaataaagcttactaacgaattacactaactttactgtattt...</td>\n",
       "      <td>aaataaatttgacttagcttaaatttcagtatatttatatacacaa...</td>\n",
       "      <td>3</td>\n",
       "      <td>2</td>\n",
       "      <td>-230.6</td>\n",
       "      <td>628</td>\n",
       "      <td>[ttt, ttt, ttt, tta, taa, aat, ata, taa, aaa, ...</td>\n",
       "      <td>[aaa, aat, ata, taa, aaa, aat, att, ttt, ttg, ...</td>\n",
       "      <td>[ttt, ttt, ttt, tta, taa, aat, ata, taa, aaa, ...</td>\n",
       "    </tr>\n",
       "    <tr>\n",
       "      <th>4</th>\n",
       "      <td>atpH</td>\n",
       "      <td>13.85</td>\n",
       "      <td>0.971</td>\n",
       "      <td>ttttaaatttacatgttgtaaaggatatctatagaaatgggagtta...</td>\n",
       "      <td>tcggataaaacatattatgaccgtataatgtttttccaccattgaa...</td>\n",
       "      <td>5</td>\n",
       "      <td>3</td>\n",
       "      <td>-206.4</td>\n",
       "      <td>986</td>\n",
       "      <td>[ttt, ttt, tta, taa, aaa, aat, att, ttt, tta, ...</td>\n",
       "      <td>[tcg, cgg, gga, gat, ata, taa, aaa, aaa, aac, ...</td>\n",
       "      <td>[ttt, ttt, tta, taa, aaa, aat, att, ttt, tta, ...</td>\n",
       "    </tr>\n",
       "  </tbody>\n",
       "</table>\n",
       "</div>"
      ],
      "text/plain": [
       "   Gene  Average  Normalised avg  \\\n",
       "0  atpA    11.88           0.832   \n",
       "1  atpB    11.62           0.814   \n",
       "2  atpE    11.36           0.796   \n",
       "3  atpF     9.68           0.678   \n",
       "4  atpH    13.85           0.971   \n",
       "\n",
       "                                                3UTR  \\\n",
       "0  tttttaattaagtaggaactcggtatatgctcttttggggtcttat...   \n",
       "1  ttggctctttaagaagaaaacaacttaatggtgtccaaatatttat...   \n",
       "2  ttagatctatgtatttacccaaagagtatactgttcaactctatca...   \n",
       "3  tttttaataaagcttactaacgaattacactaactttactgtattt...   \n",
       "4  ttttaaatttacatgttgtaaaggatatctatagaaatgggagtta...   \n",
       "\n",
       "                                                5UTR  Quintile  Tertile  \\\n",
       "0  attttaatgcttatgctatcttttttatttagtccataaaaccttt...         5        3   \n",
       "1  tcatattttaacttattttacttaaattcttacgtataaaccccga...         5        3   \n",
       "2  aataaaaaaaaataaaacttctaaaagcgataaagctagaacattc...         4        3   \n",
       "3  aaataaatttgacttagcttaaatttcagtatatttatatacacaa...         3        2   \n",
       "4  tcggataaaacatattatgaccgtataatgtttttccaccattgaa...         5        3   \n",
       "\n",
       "   3UTR MFE  3UTRL                                              3UTRK  \\\n",
       "0     -31.3    185  [ttt, ttt, ttt, tta, taa, aat, att, tta, taa, ...   \n",
       "1      -4.9     70  [ttg, tgg, ggc, gct, ctc, tct, ctt, ttt, tta, ...   \n",
       "2     -30.1    132  [tta, tag, aga, gat, atc, tct, cta, tat, atg, ...   \n",
       "3    -230.6    628  [ttt, ttt, ttt, tta, taa, aat, ata, taa, aaa, ...   \n",
       "4    -206.4    986  [ttt, ttt, tta, taa, aaa, aat, att, ttt, tta, ...   \n",
       "\n",
       "                                               5UTRK  \\\n",
       "0  [att, ttt, ttt, tta, taa, aat, atg, tgc, gct, ...   \n",
       "1  [tca, cat, ata, tat, att, ttt, ttt, tta, taa, ...   \n",
       "2  [aat, ata, taa, aaa, aaa, aaa, aaa, aaa, aaa, ...   \n",
       "3  [aaa, aat, ata, taa, aaa, aat, att, ttt, ttg, ...   \n",
       "4  [tcg, cgg, gga, gat, ata, taa, aaa, aaa, aac, ...   \n",
       "\n",
       "                                            Combined  \n",
       "0  [ttt, ttt, ttt, tta, taa, aat, att, tta, taa, ...  \n",
       "1  [ttg, tgg, ggc, gct, ctc, tct, ctt, ttt, tta, ...  \n",
       "2  [tta, tag, aga, gat, atc, tct, cta, tat, atg, ...  \n",
       "3  [ttt, ttt, ttt, tta, taa, aat, ata, taa, aaa, ...  \n",
       "4  [ttt, ttt, tta, taa, aaa, aat, att, ttt, tta, ...  "
      ]
     },
     "execution_count": 25,
     "metadata": {},
     "output_type": "execute_result"
    }
   ],
   "source": [
    "# Previews the first 5 genes in the chloroplast plastome dataset\n",
    "chloroplast.head()"
   ]
  },
  {
   "cell_type": "code",
   "execution_count": 32,
   "metadata": {},
   "outputs": [],
   "source": [
    "# Sets the prediction target as tertle of expression for the chloroplast genes, and makes the predictions\n",
    "y2 = chloroplast[['Tertile']]\n",
    "y2_pred = np.empty(67,) "
   ]
  },
  {
   "cell_type": "code",
   "execution_count": 33,
   "metadata": {},
   "outputs": [
    {
     "name": "stdout",
     "output_type": "stream",
     "text": [
      "System 3 model 1 has an accuracy of 46.0%\n",
      "System 3 model 1 has a precision of 63.0%\n",
      "System 3 model 1 has a recall score of 46.0%\n"
     ]
    }
   ],
   "source": [
    "# This is for the multinomial naive Bayes classifier\n",
    "y2_pred = nuclearclassifier.predict(X2)\n",
    "print(\"System 3 model 1 has an accuracy of \" + str(round((accuracy_score(y2_pred, y2)),2)*100) +\"%\")\n",
    "print(\"System 3 model 1 has a precision of \" + str(round((precision_score(y2_pred, y2, average='weighted')),2)*100) +\"%\")\n",
    "print(\"System 3 model 1 has a recall score of \" + str(round((recall_score(y2_pred, y2, average='weighted')),2)*100) +\"%\")"
   ]
  },
  {
   "cell_type": "code",
   "execution_count": 45,
   "metadata": {},
   "outputs": [
    {
     "name": "stdout",
     "output_type": "stream",
     "text": [
      "System 3 model 2 has an accuracy of 33.0%\n",
      "System 3 model 2 has a precision of 100.0%\n",
      "System 3 model 2 has a recall score of 33.0%\n",
      "Having low accuracy and recall scores but a very high precision score seems erroneous\n"
     ]
    }
   ],
   "source": [
    "# This is for the random forest classifier\n",
    "y3_pred = nuclearclassifier2.predict(X2)\n",
    "print(\"System 3 model 2 has an accuracy of \" + str(round((accuracy_score(y3_pred, y2)),2)*100) +\"%\")\n",
    "print(\"System 3 model 2 has a precision of \" + str(round((precision_score(y3_pred, y2, average='weighted')),2)*100) +\"%\")\n",
    "print(\"System 3 model 2 has a recall score of \" + str(round((recall_score(y3_pred, y2, average='weighted')),2)*100) +\"%\")\n",
    "print(\"Having low accuracy and recall scores but a very high precision score seems erroneous\")"
   ]
  },
  {
   "cell_type": "code",
   "execution_count": 48,
   "metadata": {},
   "outputs": [
    {
     "name": "stdout",
     "output_type": "stream",
     "text": [
      "Let's have a look at what system 3 model 2 predicted\n",
      "[2 2 2 2 2 2 2 2 2 2 2 2 2 2 2 2 2 2 2 2 2 2 2 2 2 2 2 2 2 2 2 2 2 2 2 2 2\n",
      " 2 2 2 2 2 2 2 2 2 2 2 2 2 2 2 2 2 2 2 2 2 2 2 2 2 2 2 2 2 2]\n",
      "The random forest classifier has predicted expression tertile 2 for all genes: this is clearly innacurate!\n",
      "Clearly the multinomial naive Bayes model (system 3 model 1) is superior\n"
     ]
    }
   ],
   "source": [
    "print(\"Let's have a look at what system 3 model 2 predicted\")\n",
    "print(y3_pred)\n",
    "print(\"The random forest classifier has predicted expression tertile 2 for all genes: this is clearly innacurate!\")\n",
    "print(\"Clearly the multinomial naive Bayes model (system 3 model 1) is superior\")"
   ]
  },
  {
   "cell_type": "code",
   "execution_count": null,
   "metadata": {},
   "outputs": [],
   "source": []
  }
 ],
 "metadata": {
  "kernelspec": {
   "display_name": "Python 3",
   "language": "python",
   "name": "python3"
  },
  "language_info": {
   "codemirror_mode": {
    "name": "ipython",
    "version": 3
   },
   "file_extension": ".py",
   "mimetype": "text/x-python",
   "name": "python",
   "nbconvert_exporter": "python",
   "pygments_lexer": "ipython3",
   "version": "3.7.6"
  }
 },
 "nbformat": 4,
 "nbformat_minor": 4
}
