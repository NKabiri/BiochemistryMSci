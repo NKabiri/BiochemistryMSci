{
 "cells": [
  {
   "cell_type": "code",
   "execution_count": 37,
   "metadata": {},
   "outputs": [],
   "source": [
    "import pandas as pd\n",
    "import numpy as np\n",
    "import seaborn as sns\n",
    "import matplotlib.pyplot as plt\n",
    "%matplotlib inline\n",
    "import os\n",
    "import random\n",
    "from sklearn.model_selection import train_test_split\n",
    "from sklearn.naive_bayes import MultinomialNB\n",
    "from sklearn.feature_extraction.text import CountVectorizer\n",
    "from sklearn.metrics import accuracy_score, precision_score, recall_score\n",
    "from sklearn.linear_model import LinearRegression\n",
    "from sklearn.metrics import r2_score, mean_squared_error\n",
    "from sklearn.ensemble import RandomForestClassifier"
   ]
  },
  {
   "cell_type": "code",
   "execution_count": 38,
   "metadata": {},
   "outputs": [],
   "source": [
    "nuclear = pd.read_csv(\"C:/Users/natha/Desktop/MSCi/nucleardata.csv\")"
   ]
  },
  {
   "cell_type": "code",
   "execution_count": 39,
   "metadata": {},
   "outputs": [
    {
     "data": {
      "text/html": [
       "<div>\n",
       "<style scoped>\n",
       "    .dataframe tbody tr th:only-of-type {\n",
       "        vertical-align: middle;\n",
       "    }\n",
       "\n",
       "    .dataframe tbody tr th {\n",
       "        vertical-align: top;\n",
       "    }\n",
       "\n",
       "    .dataframe thead th {\n",
       "        text-align: right;\n",
       "    }\n",
       "</style>\n",
       "<table border=\"1\" class=\"dataframe\">\n",
       "  <thead>\n",
       "    <tr style=\"text-align: right;\">\n",
       "      <th></th>\n",
       "      <th>Transcript name</th>\n",
       "      <th>5UTR</th>\n",
       "      <th>3UTR</th>\n",
       "      <th>Mettler C0</th>\n",
       "      <th>Tertile</th>\n",
       "    </tr>\n",
       "  </thead>\n",
       "  <tbody>\n",
       "    <tr>\n",
       "      <th>0</th>\n",
       "      <td>ADC1</td>\n",
       "      <td>ATAAAGGTCGGGCCGGTTGTTTACAATGAAGGGCACAGCCGCGCCA...</td>\n",
       "      <td>AGTGGACTGTCGGCATAAGAATGCTGTGCTAGGAATAGGTACCGTG...</td>\n",
       "      <td>9.527054</td>\n",
       "      <td>2</td>\n",
       "    </tr>\n",
       "    <tr>\n",
       "      <th>1</th>\n",
       "      <td>LHCSR1</td>\n",
       "      <td>AGAGTCATTCCCCAACCCACTTCTCAGCTTGCACCTCCTTGTGCAC...</td>\n",
       "      <td>GTGCCTCTTCCTCGATCGTGATCTGCTTCACGGTTTGGTCGCGGGC...</td>\n",
       "      <td>12.158357</td>\n",
       "      <td>3</td>\n",
       "    </tr>\n",
       "    <tr>\n",
       "      <th>2</th>\n",
       "      <td>GRX2</td>\n",
       "      <td>CACATTGGCACTGGAGTTTATTTGAGGCGATACATGCCTTCTCATG...</td>\n",
       "      <td>GGCGAGGGCGGCGGGGTGGGCAGCAGGTTGTGAGGCGCGTGCAGGG...</td>\n",
       "      <td>14.064211</td>\n",
       "      <td>3</td>\n",
       "    </tr>\n",
       "    <tr>\n",
       "      <th>3</th>\n",
       "      <td>TIM16</td>\n",
       "      <td>GCACCAAACTTTCCCTGGGCCCCCCTCTGGGCGCACTCGAAATGCT...</td>\n",
       "      <td>CGAGGCGTGGCGTGAGGTGACAAGCAGGGGCGATGGATGTTGGGGA...</td>\n",
       "      <td>8.464260</td>\n",
       "      <td>2</td>\n",
       "    </tr>\n",
       "    <tr>\n",
       "      <th>4</th>\n",
       "      <td>Cre01.g056200</td>\n",
       "      <td>ACTTGTCAAAACCTTGCAAGGCTTGCGGCAGGCACTGTCCAGTACC...</td>\n",
       "      <td>TGGGTCAGTGGGGCGTGTGTGTGGCCGGCTGCTGGACCCGTGAGCA...</td>\n",
       "      <td>14.582071</td>\n",
       "      <td>3</td>\n",
       "    </tr>\n",
       "  </tbody>\n",
       "</table>\n",
       "</div>"
      ],
      "text/plain": [
       "  Transcript name                                               5UTR  \\\n",
       "0            ADC1  ATAAAGGTCGGGCCGGTTGTTTACAATGAAGGGCACAGCCGCGCCA...   \n",
       "1          LHCSR1  AGAGTCATTCCCCAACCCACTTCTCAGCTTGCACCTCCTTGTGCAC...   \n",
       "2            GRX2  CACATTGGCACTGGAGTTTATTTGAGGCGATACATGCCTTCTCATG...   \n",
       "3           TIM16  GCACCAAACTTTCCCTGGGCCCCCCTCTGGGCGCACTCGAAATGCT...   \n",
       "4   Cre01.g056200  ACTTGTCAAAACCTTGCAAGGCTTGCGGCAGGCACTGTCCAGTACC...   \n",
       "\n",
       "                                                3UTR  Mettler C0  Tertile  \n",
       "0  AGTGGACTGTCGGCATAAGAATGCTGTGCTAGGAATAGGTACCGTG...    9.527054        2  \n",
       "1  GTGCCTCTTCCTCGATCGTGATCTGCTTCACGGTTTGGTCGCGGGC...   12.158357        3  \n",
       "2  GGCGAGGGCGGCGGGGTGGGCAGCAGGTTGTGAGGCGCGTGCAGGG...   14.064211        3  \n",
       "3  CGAGGCGTGGCGTGAGGTGACAAGCAGGGGCGATGGATGTTGGGGA...    8.464260        2  \n",
       "4  TGGGTCAGTGGGGCGTGTGTGTGGCCGGCTGCTGGACCCGTGAGCA...   14.582071        3  "
      ]
     },
     "execution_count": 39,
     "metadata": {},
     "output_type": "execute_result"
    }
   ],
   "source": [
    "nuclear.head()"
   ]
  },
  {
   "cell_type": "code",
   "execution_count": 40,
   "metadata": {},
   "outputs": [
    {
     "name": "stdout",
     "output_type": "stream",
     "text": [
      "<class 'pandas.core.frame.DataFrame'>\n",
      "RangeIndex: 384 entries, 0 to 383\n",
      "Data columns (total 5 columns):\n",
      " #   Column           Non-Null Count  Dtype  \n",
      "---  ------           --------------  -----  \n",
      " 0   Transcript name  384 non-null    object \n",
      " 1   5UTR             384 non-null    object \n",
      " 2   3UTR             384 non-null    object \n",
      " 3   Mettler C0       384 non-null    float64\n",
      " 4   Tertile          384 non-null    int64  \n",
      "dtypes: float64(1), int64(1), object(3)\n",
      "memory usage: 15.1+ KB\n"
     ]
    }
   ],
   "source": [
    "nuclear.info()"
   ]
  },
  {
   "cell_type": "code",
   "execution_count": 41,
   "metadata": {},
   "outputs": [
    {
     "data": {
      "text/plain": [
       "Index(['Transcript name', '5UTR', '3UTR', 'Mettler C0', 'Tertile'], dtype='object')"
      ]
     },
     "execution_count": 41,
     "metadata": {},
     "output_type": "execute_result"
    }
   ],
   "source": [
    "nuclear.keys()"
   ]
  },
  {
   "cell_type": "code",
   "execution_count": 42,
   "metadata": {},
   "outputs": [],
   "source": [
    "def kmerconvert (sequence, k_length):\n",
    "    k_conversion = []\n",
    "    num_kmers = len(sequence) - k_length + 1\n",
    "    \n",
    "    for element in range(num_kmers):\n",
    "        kmer = sequence[element:element + k_length]\n",
    "        k_conversion.append(kmer)\n",
    "        \n",
    "    return k_conversion"
   ]
  },
  {
   "cell_type": "code",
   "execution_count": 43,
   "metadata": {},
   "outputs": [],
   "source": [
    "nuclear['3UTRK'] = nuclear.apply(lambda x: kmerconvert(x['3UTR'], k_length=3), axis=1)"
   ]
  },
  {
   "cell_type": "code",
   "execution_count": 44,
   "metadata": {},
   "outputs": [],
   "source": [
    "nuclear['5UTRK'] = nuclear.apply(lambda x: kmerconvert(x['5UTR'], k_length=3), axis=1)"
   ]
  },
  {
   "cell_type": "code",
   "execution_count": 45,
   "metadata": {},
   "outputs": [
    {
     "data": {
      "text/html": [
       "<div>\n",
       "<style scoped>\n",
       "    .dataframe tbody tr th:only-of-type {\n",
       "        vertical-align: middle;\n",
       "    }\n",
       "\n",
       "    .dataframe tbody tr th {\n",
       "        vertical-align: top;\n",
       "    }\n",
       "\n",
       "    .dataframe thead th {\n",
       "        text-align: right;\n",
       "    }\n",
       "</style>\n",
       "<table border=\"1\" class=\"dataframe\">\n",
       "  <thead>\n",
       "    <tr style=\"text-align: right;\">\n",
       "      <th></th>\n",
       "      <th>Transcript name</th>\n",
       "      <th>5UTR</th>\n",
       "      <th>3UTR</th>\n",
       "      <th>Mettler C0</th>\n",
       "      <th>Tertile</th>\n",
       "      <th>3UTRK</th>\n",
       "      <th>5UTRK</th>\n",
       "    </tr>\n",
       "  </thead>\n",
       "  <tbody>\n",
       "    <tr>\n",
       "      <th>0</th>\n",
       "      <td>ADC1</td>\n",
       "      <td>ATAAAGGTCGGGCCGGTTGTTTACAATGAAGGGCACAGCCGCGCCA...</td>\n",
       "      <td>AGTGGACTGTCGGCATAAGAATGCTGTGCTAGGAATAGGTACCGTG...</td>\n",
       "      <td>9.527054</td>\n",
       "      <td>2</td>\n",
       "      <td>[AGT, GTG, TGG, GGA, GAC, ACT, CTG, TGT, GTC, ...</td>\n",
       "      <td>[ATA, TAA, AAA, AAG, AGG, GGT, GTC, TCG, CGG, ...</td>\n",
       "    </tr>\n",
       "    <tr>\n",
       "      <th>1</th>\n",
       "      <td>LHCSR1</td>\n",
       "      <td>AGAGTCATTCCCCAACCCACTTCTCAGCTTGCACCTCCTTGTGCAC...</td>\n",
       "      <td>GTGCCTCTTCCTCGATCGTGATCTGCTTCACGGTTTGGTCGCGGGC...</td>\n",
       "      <td>12.158357</td>\n",
       "      <td>3</td>\n",
       "      <td>[GTG, TGC, GCC, CCT, CTC, TCT, CTT, TTC, TCC, ...</td>\n",
       "      <td>[AGA, GAG, AGT, GTC, TCA, CAT, ATT, TTC, TCC, ...</td>\n",
       "    </tr>\n",
       "    <tr>\n",
       "      <th>2</th>\n",
       "      <td>GRX2</td>\n",
       "      <td>CACATTGGCACTGGAGTTTATTTGAGGCGATACATGCCTTCTCATG...</td>\n",
       "      <td>GGCGAGGGCGGCGGGGTGGGCAGCAGGTTGTGAGGCGCGTGCAGGG...</td>\n",
       "      <td>14.064211</td>\n",
       "      <td>3</td>\n",
       "      <td>[GGC, GCG, CGA, GAG, AGG, GGG, GGC, GCG, CGG, ...</td>\n",
       "      <td>[CAC, ACA, CAT, ATT, TTG, TGG, GGC, GCA, CAC, ...</td>\n",
       "    </tr>\n",
       "    <tr>\n",
       "      <th>3</th>\n",
       "      <td>TIM16</td>\n",
       "      <td>GCACCAAACTTTCCCTGGGCCCCCCTCTGGGCGCACTCGAAATGCT...</td>\n",
       "      <td>CGAGGCGTGGCGTGAGGTGACAAGCAGGGGCGATGGATGTTGGGGA...</td>\n",
       "      <td>8.464260</td>\n",
       "      <td>2</td>\n",
       "      <td>[CGA, GAG, AGG, GGC, GCG, CGT, GTG, TGG, GGC, ...</td>\n",
       "      <td>[GCA, CAC, ACC, CCA, CAA, AAA, AAC, ACT, CTT, ...</td>\n",
       "    </tr>\n",
       "    <tr>\n",
       "      <th>4</th>\n",
       "      <td>Cre01.g056200</td>\n",
       "      <td>ACTTGTCAAAACCTTGCAAGGCTTGCGGCAGGCACTGTCCAGTACC...</td>\n",
       "      <td>TGGGTCAGTGGGGCGTGTGTGTGGCCGGCTGCTGGACCCGTGAGCA...</td>\n",
       "      <td>14.582071</td>\n",
       "      <td>3</td>\n",
       "      <td>[TGG, GGG, GGT, GTC, TCA, CAG, AGT, GTG, TGG, ...</td>\n",
       "      <td>[ACT, CTT, TTG, TGT, GTC, TCA, CAA, AAA, AAA, ...</td>\n",
       "    </tr>\n",
       "  </tbody>\n",
       "</table>\n",
       "</div>"
      ],
      "text/plain": [
       "  Transcript name                                               5UTR  \\\n",
       "0            ADC1  ATAAAGGTCGGGCCGGTTGTTTACAATGAAGGGCACAGCCGCGCCA...   \n",
       "1          LHCSR1  AGAGTCATTCCCCAACCCACTTCTCAGCTTGCACCTCCTTGTGCAC...   \n",
       "2            GRX2  CACATTGGCACTGGAGTTTATTTGAGGCGATACATGCCTTCTCATG...   \n",
       "3           TIM16  GCACCAAACTTTCCCTGGGCCCCCCTCTGGGCGCACTCGAAATGCT...   \n",
       "4   Cre01.g056200  ACTTGTCAAAACCTTGCAAGGCTTGCGGCAGGCACTGTCCAGTACC...   \n",
       "\n",
       "                                                3UTR  Mettler C0  Tertile  \\\n",
       "0  AGTGGACTGTCGGCATAAGAATGCTGTGCTAGGAATAGGTACCGTG...    9.527054        2   \n",
       "1  GTGCCTCTTCCTCGATCGTGATCTGCTTCACGGTTTGGTCGCGGGC...   12.158357        3   \n",
       "2  GGCGAGGGCGGCGGGGTGGGCAGCAGGTTGTGAGGCGCGTGCAGGG...   14.064211        3   \n",
       "3  CGAGGCGTGGCGTGAGGTGACAAGCAGGGGCGATGGATGTTGGGGA...    8.464260        2   \n",
       "4  TGGGTCAGTGGGGCGTGTGTGTGGCCGGCTGCTGGACCCGTGAGCA...   14.582071        3   \n",
       "\n",
       "                                               3UTRK  \\\n",
       "0  [AGT, GTG, TGG, GGA, GAC, ACT, CTG, TGT, GTC, ...   \n",
       "1  [GTG, TGC, GCC, CCT, CTC, TCT, CTT, TTC, TCC, ...   \n",
       "2  [GGC, GCG, CGA, GAG, AGG, GGG, GGC, GCG, CGG, ...   \n",
       "3  [CGA, GAG, AGG, GGC, GCG, CGT, GTG, TGG, GGC, ...   \n",
       "4  [TGG, GGG, GGT, GTC, TCA, CAG, AGT, GTG, TGG, ...   \n",
       "\n",
       "                                               5UTRK  \n",
       "0  [ATA, TAA, AAA, AAG, AGG, GGT, GTC, TCG, CGG, ...  \n",
       "1  [AGA, GAG, AGT, GTC, TCA, CAT, ATT, TTC, TCC, ...  \n",
       "2  [CAC, ACA, CAT, ATT, TTG, TGG, GGC, GCA, CAC, ...  \n",
       "3  [GCA, CAC, ACC, CCA, CAA, AAA, AAC, ACT, CTT, ...  \n",
       "4  [ACT, CTT, TTG, TGT, GTC, TCA, CAA, AAA, AAA, ...  "
      ]
     },
     "execution_count": 45,
     "metadata": {},
     "output_type": "execute_result"
    }
   ],
   "source": [
    "nuclear.head()"
   ]
  },
  {
   "cell_type": "code",
   "execution_count": 46,
   "metadata": {},
   "outputs": [],
   "source": [
    "nuclear[\"Combined\"] = nuclear[\"3UTRK\"] + nuclear[\"5UTRK\"]"
   ]
  },
  {
   "cell_type": "code",
   "execution_count": 47,
   "metadata": {},
   "outputs": [],
   "source": [
    "kmer_sentences = list(nuclear['Combined'])\n",
    "for e in range(len(kmer_sentences)):\n",
    "    kmer_sentences[e] = ' '.join(kmer_sentences[e])"
   ]
  },
  {
   "cell_type": "code",
   "execution_count": 48,
   "metadata": {},
   "outputs": [
    {
     "name": "stdout",
     "output_type": "stream",
     "text": [
      "CAG AGG GGC GCG CGC GCA CAC ACA CAG AGG GGC GCG CGA GAG AGG GGT GTT TTG TGC GCA CAG AGG GGA GAG AGC GCA CAA AAT ATC TCC CCT CTT TTA TAG AGA GAG AGA GAT ATG TGC GCG CGC GCC CCC CCA CAA AAC ACT CTG TGC GCT CTT TTA TAG AGG GGC GCT CTG TGC GCG CGG GGG GGC GCC CCA CAA AAG AGC GCA CAG AGC GCT CTG TGC GCA CAG AGT GTC TCC CCA CAT ATT TTC TCG CGT GTG TGA GAA AAA AAT ATA TAT ATT TTA TAC ACA CAA AAG AGC GCC CCC CCT CTG TGC GCT CTT TTG TGT GTG TGC GCA CAG AGC GCA CAG AGG GGC GCC CCG CGC GCA CAA AAC ACT CTG TGA GAG AGC GCG CGC GCT CTG TGA GAC ACA CAA AAC ACT CTG TGC GCC CCA CAT ATA TAG AGT GTT TTT TTT TTG TGT GTT TTG TGA GAA AAC ACA CAC ACC CCT CTG TGC GCT CTC TCT CTT TTT TTT TTT TTC TCC CCG CGG GGG GGC GCA CAC ACG CGG GGG GGC GCT CTC TCC CCG CGA GAC ACG CGG GGA GAA AAT ATC TCC CCA CAC ACG CGG GGA GAG AGA GAT ATA TAC ACG CGG GGC GCA CAT ATG TGT GTA TAC ACT CTT TTT TTG TGG GGA GAA AAA AAT ATG TGC GCC CCA CAA AAA AAT ATA TAG AGA GAG AGT GTG TGA GAT ATC TCC CCT CTG TGC GCG CGA GAC ACG CGG GGG GGC GCG CGT GTA TAC ACG CGC GCT CTT TTT TTA TAG AGA GAG AGT GTT TTC TCA CAA AAG AGG GGA GAC ACC CCT CTG TGG GGG GGG GGA GAC ACT CTG TGG GGA GAA AAA AAC ACG CGG GGG GGT GTA TAC ACA CAG AGC GCA CAT ATC TCA CAG AGT GTG TGA GAA AAG AGA GAT ATG TGT GTG TGA GAG AGC GCG CGT GTG TGC GCG CGT GTG TGT GTG TGG GGA GAT ATG TGA GAT ATG TGG GGA GAC ACA CAC ACG CGG GGC GCA CAC ACA CAG AGA GAC ACC CCT CTT TTT TTC TCT CTT TTC TCC CCT CTT TTT TTT TTT TTC TCG CGG GGG GGC GCA CAA AAC ACG CGT GTT TTT TTG TGT GTT TTC TCT CTT TTG TGT GTG TGA GAT ATG TGC GCT CTG TGG GGT GTT TTG TGC GCA CAC ACT CTG TGG GGT GTG TGC GCG CGT GTC TCT CTG TGC GCT CTG TGT GTT TTC TCG CGT GTG TGC GCT CTC TCC CCT CTG TGG GGA GAC ACC CCT CTC TCT CTG TGG GGT GTG TGC GCG CGC GCA CAG AGT GTG TGC GCG CGA GAG AGT GTG TGA GAC ACT CTG TGG GGC GCT CTG TGA GAG AGT GTG TGA GAT ATC TCA CAA AAG AGG GGA GAA AAG AGA GAG AGT GTT TTG TGT GTG TGT GTT TTC TCA CAT ATG TGG GGG GGG GGG GGG GGG GGG GGG GGG GGG GGG GGG GGT GTC TCC CCT CTG TGC GCA CAA AAG AGA GAG AGA GAG AGG GGG GGA GAA AAG AGG GGA GAG AGC GCA CAG AGG GGA GAT ATC TCA CAG AGG GGC GCA CAG AGG GGA GAT ATG TGA GAT ATT TTG TGG GGA GAG AGG GGG GGG GGG GGA GAG AGT GTA TAT ATA TAA AAA AAT ATT TTA TAC ACT CTG TGA GAG AGA GAG AGG GGC GCA CAT ATG TGG GGC GCT CTG TGT GTC TCT CTA TAA AAT ATG TGG GGA GAG AGC GCT CTG TGA GAT ATG TGT GTA TAT ATG TGC GCT CTA TAT ATG TGC GCT CTA TAT ATG TGG GGC GCT CTT TTC TCG CGG GGA GAC ACC CCC CCC CCG CGG GGA GAC ACT CTT TTG TGA GAA AAT ATG TGG GGG GGA GAG AGT GTA TAA AAT ATG TGA GAA AAT ATG TGC GCG CGG GGC GCG CGC GCT CTG TGC GCT CTT TTT TTG TGT GTC TCC CCG CGG GGG GGC GCG CGG GGC GCC CCG CGC GCC CCG CGC GCT CTC TCA CAT ATA TAC ACC CCA CAT ATG TGC GCT CTG TGC GCC CCG CGT GTC TCA CAC ACA CAC ACC CCT CTT TTC TCC CCT CTA TAT ATG TGC GCC CCG CGG GGT GTA TAT ATG TGA GAG AGT GTG TGC GCA CAC ACA CAC ACC CCG CGT GTC TCA CAA AAA AAC ACG CGT GTT TTT TTT TTT TTG TGG GGG GGC GCT CTA TAT ATG TGG GGG GGT GTA TAT ATC TCT CTT TTG TGC GCA CAC ACA CAT ATA TAC ACA CAC ACA CAA AAC ACG CGC GCG CGG GGT GTG TGA GAC ACC CCG CGC GCG CGT GTC TCG CGG GGA GAG AGC GCT CTT TTT TTG TGG GGA GAT ATA TAT ATA TAC ACG CGC GCC CCG CGA GAC ACT CTG TGG GGA GAG AGC GCG CGT GTT TTG TGT GTG TGG GGC GCT CTG TGG GGC GCG CGT GTT TTC TCA CAC ACT CTG TGC GCG CGT GTG TGT GTG TGG GGG GGT GTA TAT ATT TTC TCG CGG GGC GCG CGG GGT GTT TTC TCA CAG AGG GGC GCA CAG AGG GGA GAC ACG CGT GTT TTG TGG GGC GCT CTG TGG GGG GGG GGC GCC CCC CCT CTA TAG AGG GGC GCG CGG GGC GCC CCT CTT TTT TTG TGA GAG AGC GCG CGC GCT CTT TTG TGG GGT GTA TAT ATC TCC CCT CTG TGG GGG GGC GCG CGC GCC CCT CTT TTG TGC GCA CAG AGT GTG TGC GCT CTA TAA AAT ATT TTA TAA AAA AAT ATG TGT GTA TAC ACG CGG GGT GTA TAC ACA CAC ACC CCT CTG TGC GCG CGT GTG TGC GCA CAT ATA TAA AAA AAG AGT GTT TTC TCT CTT TTT TTT TTG TGC GCC CCG CGC GCG CGG GGG GGG GGA GAA AAT ATG TGA GAA AAC ACG CGC GCG CGC GCG CGT GTC TCA CAA AAT ATC TCG CGG GGG GGG GGC GCC CCG CGT GTG TGA GAG AGT GTA TAA AAC ACA CAG AGT GTA TAT ATG TGA GAG AGG GGG GGC GCC CCC CCG CGA GAA AAA AAG AGT GTA TAT ATA TAA AAC ACA CAA GTA TAT ATA TAC ACT CTT TTG TGA GAT ATG TGC GCG CGT GTG TGT GTG TGG GGT GTT TTA TAT ATA TAC ACC CCG CGT GTA TAT ATA TAA AAA AAA AAG AGG GGG GGG GGT GTG TGG GGG GGC GCA CAA AAA AAC ACA CAA AAG AGT GTC TCA CAA AAG AGC GCG CGT GTG TGT GTT TTT TTG TGA GAG AGT GTG TGC GCG CGC GCA\n"
     ]
    }
   ],
   "source": [
    "print(kmer_sentences[5])"
   ]
  },
  {
   "cell_type": "code",
   "execution_count": 49,
   "metadata": {},
   "outputs": [
    {
     "name": "stdout",
     "output_type": "stream",
     "text": [
      "(384, 283045)\n"
     ]
    }
   ],
   "source": [
    "cv = CountVectorizer(ngram_range=(8,8))\n",
    "X = cv.fit_transform(kmer_sentences)\n",
    "print(X.shape)"
   ]
  },
  {
   "cell_type": "code",
   "execution_count": 50,
   "metadata": {},
   "outputs": [],
   "source": [
    "y = nuclear[['Tertile']]"
   ]
  },
  {
   "cell_type": "code",
   "execution_count": 51,
   "metadata": {},
   "outputs": [],
   "source": [
    "#from sklearn.model_selection import train_test_split\n",
    "#X_train, X_test, y_train, y_test = train_test_split(X, y, test_size = 0.20, random_state=1)"
   ]
  },
  {
   "cell_type": "code",
   "execution_count": 52,
   "metadata": {},
   "outputs": [],
   "source": [
    "#print(X_train.shape)\n",
    "#print(y_train.shape)\n",
    "#print(X_test.shape)\n",
    "#print(y_test.shape)"
   ]
  },
  {
   "cell_type": "code",
   "execution_count": 53,
   "metadata": {},
   "outputs": [
    {
     "data": {
      "text/plain": [
       "MultinomialNB(alpha=0.0001, class_prior=None, fit_prior=True)"
      ]
     },
     "execution_count": 53,
     "metadata": {},
     "output_type": "execute_result"
    }
   ],
   "source": [
    "from sklearn.naive_bayes import MultinomialNB\n",
    "\n",
    "nuclearclassifier = MultinomialNB(alpha = 0.0001)\n",
    "nuclearclassifier.fit(X, np.ravel(y))"
   ]
  },
  {
   "cell_type": "code",
   "execution_count": 54,
   "metadata": {},
   "outputs": [
    {
     "data": {
      "text/plain": [
       "RandomForestClassifier(bootstrap=True, ccp_alpha=0.0, class_weight=None,\n",
       "                       criterion='gini', max_depth=None, max_features='auto',\n",
       "                       max_leaf_nodes=None, max_samples=None,\n",
       "                       min_impurity_decrease=0.0, min_impurity_split=None,\n",
       "                       min_samples_leaf=1, min_samples_split=2,\n",
       "                       min_weight_fraction_leaf=0.0, n_estimators=100,\n",
       "                       n_jobs=None, oob_score=False, random_state=None,\n",
       "                       verbose=0, warm_start=False)"
      ]
     },
     "execution_count": 54,
     "metadata": {},
     "output_type": "execute_result"
    }
   ],
   "source": [
    "from sklearn.ensemble import RandomForestClassifier\n",
    "\n",
    "nuclearclassifier2 = RandomForestClassifier()\n",
    "nuclearclassifier2.fit(X, np.ravel(y))"
   ]
  },
  {
   "cell_type": "code",
   "execution_count": 55,
   "metadata": {},
   "outputs": [],
   "source": [
    "#y_pred = nuclearclassifier.predict(X_test)"
   ]
  },
  {
   "cell_type": "code",
   "execution_count": 56,
   "metadata": {},
   "outputs": [],
   "source": [
    "#print(accuracy_score(y_test, y_pred))\n",
    "#print(precision_score(y_test, y_pred, average='weighted'))\n",
    "#print(recall_score(y_test, y_pred, average='weighted'))"
   ]
  },
  {
   "cell_type": "code",
   "execution_count": 57,
   "metadata": {},
   "outputs": [],
   "source": [
    "chloroplast = pd.read_csv(\"C:/Users/natha/Desktop/MSCi/algae.csv\")"
   ]
  },
  {
   "cell_type": "code",
   "execution_count": 58,
   "metadata": {},
   "outputs": [
    {
     "name": "stdout",
     "output_type": "stream",
     "text": [
      "<class 'pandas.core.frame.DataFrame'>\n",
      "RangeIndex: 67 entries, 0 to 66\n",
      "Data columns (total 9 columns):\n",
      " #   Column          Non-Null Count  Dtype  \n",
      "---  ------          --------------  -----  \n",
      " 0   Gene            67 non-null     object \n",
      " 1   Average         67 non-null     float64\n",
      " 2   Normalised avg  67 non-null     float64\n",
      " 3   3UTR            67 non-null     object \n",
      " 4   5UTR            67 non-null     object \n",
      " 5   Quintile        67 non-null     int64  \n",
      " 6   Tertile         67 non-null     int64  \n",
      " 7   3UTR MFE        67 non-null     float64\n",
      " 8   3UTRL           67 non-null     int64  \n",
      "dtypes: float64(3), int64(3), object(3)\n",
      "memory usage: 4.8+ KB\n"
     ]
    }
   ],
   "source": [
    "chloroplast.head()\n",
    "chloroplast.info()"
   ]
  },
  {
   "cell_type": "code",
   "execution_count": 59,
   "metadata": {},
   "outputs": [],
   "source": [
    "chloroplast['3UTRK'] = chloroplast.apply(lambda x: kmerconvert(x['3UTR'], k_length=3), axis=1)"
   ]
  },
  {
   "cell_type": "code",
   "execution_count": 60,
   "metadata": {},
   "outputs": [],
   "source": [
    "chloroplast['5UTRK'] = chloroplast.apply(lambda x: kmerconvert(x['5UTR'], k_length=3), axis=1)"
   ]
  },
  {
   "cell_type": "code",
   "execution_count": 61,
   "metadata": {},
   "outputs": [],
   "source": [
    "chloroplast[\"Combined\"] = chloroplast[\"3UTRK\"] + chloroplast[\"5UTRK\"]"
   ]
  },
  {
   "cell_type": "code",
   "execution_count": 62,
   "metadata": {},
   "outputs": [],
   "source": [
    "kmer_sentences2 = list(chloroplast['Combined'])\n",
    "for e in range(len(kmer_sentences2)):\n",
    "    kmer_sentences2[e] = ' '.join(kmer_sentences2[e])"
   ]
  },
  {
   "cell_type": "code",
   "execution_count": 63,
   "metadata": {},
   "outputs": [
    {
     "name": "stdout",
     "output_type": "stream",
     "text": [
      "taa aaa aag agt gtt tta taa aat ata taa aag aga gat att ttt ttt tta taa aat att ttt tta taa aag agt gtt ttc tct cta tat ata tat att tta tat atc tca caa aac act cta tac act ctt tta tac act cta tag agt gtt ttg tga gat ata taa aat ata tat ata tag aga gaa aac act ctt tta taa aaa aat ata tat ata taa aaa aaa aag agt gtt ttt ttt tta taa aat att ttt ttt ttt ttc tct ctt tta taa aat ata tat atg tgt gta tag agt gtt ttg tgg ggc gca cag agt gtt tta tat att ttc tct cta taa aaa aat att tta taa aaa aac act cta tag agg ggt gta taa aaa aaa aag aga gat att ttt ttc tca cac act ctt ttc tct ctt ttt ttt tta tag agc gct cta tag aga gaa aaa aaa aaa aaa aaa aag aga aaa aaa aaa aat atg tgt gta taa aat ata taa aaa aaa aat att ttc tct ctt tta tac acc cca caa aat att tta tat att ttg tgg gga gaa aaa aag aga gat ata tat att tta taa aat ata tat att ttt ttt ttt tta taa aat ata taa aat ata taa aac acc cca cac act cta tat ata taa aaa aat ata taa aat atg tga gac acc cca cag agt gtt tta tat att tta tat atc tct cta tat att ttt ttt ttt ttt ttt tta taa aaa aac aca caa aat att ttg tgt gta tac act ctt tta tac acg cgt gta tat att tta tat ata tat att ttg tgc gct ctg tgt gtg tgc gca cat atg tgt gtg tga gac aca cag aga gaa aag aga gaa aat ata tat atg tgg ggt gtg tga gaa aat ata tac aca caa aaa aag aga gat ata tag agt gtt ttc tct ctc tct cta tac acc cct cta taa aaa aaa aag agc gcg cga gat att tta tac aca cag agt gta tat att tta taa aaa aac aca cag agg ggt gtg tga gag agt gtc tcc cct ctt ttt tta taa aaa aaa aaa aag agg ggt gtg tgg ggt gta taa aag aga gat att tta tat ata tag agc gca cat att ttc tcc ccc cca caa aaa aaa aaa aat atg tga gat atg tgt gta tat ata tat att ttt ttg tgc gca caa aag agc gca caa aag aga gaa aac aca caa aat att ttc tct cta tag agc gct ctt ttt tta tag agc gca cag agt gta tat att tta tag agg gga gaa aac act ctc tcc cca cat ata tat att ttt ttg tga gag agt gtg tgt gtc tct ctc tct ctt ttt ttt ttt ttt ttg tgg gga gat ata taa aac act ctt tta tat atg tgc gct ctg tgt gtt ttt tta taa aac aca cag agc gcc cct ctc tca cac aca cag agt gtt ttt ttg tgc gcc cca\n"
     ]
    }
   ],
   "source": [
    "print(kmer_sentences2[5])"
   ]
  },
  {
   "cell_type": "code",
   "execution_count": 64,
   "metadata": {},
   "outputs": [
    {
     "name": "stdout",
     "output_type": "stream",
     "text": [
      "(67, 283045)\n"
     ]
    }
   ],
   "source": [
    "#cv2 = CountVectorizer(ngram_range=(13,13))\n",
    "X2 = cv.transform(kmer_sentences2)\n",
    "print(X2.shape)"
   ]
  },
  {
   "cell_type": "code",
   "execution_count": 65,
   "metadata": {},
   "outputs": [
    {
     "data": {
      "text/html": [
       "<div>\n",
       "<style scoped>\n",
       "    .dataframe tbody tr th:only-of-type {\n",
       "        vertical-align: middle;\n",
       "    }\n",
       "\n",
       "    .dataframe tbody tr th {\n",
       "        vertical-align: top;\n",
       "    }\n",
       "\n",
       "    .dataframe thead th {\n",
       "        text-align: right;\n",
       "    }\n",
       "</style>\n",
       "<table border=\"1\" class=\"dataframe\">\n",
       "  <thead>\n",
       "    <tr style=\"text-align: right;\">\n",
       "      <th></th>\n",
       "      <th>Gene</th>\n",
       "      <th>Average</th>\n",
       "      <th>Normalised avg</th>\n",
       "      <th>3UTR</th>\n",
       "      <th>5UTR</th>\n",
       "      <th>Quintile</th>\n",
       "      <th>Tertile</th>\n",
       "      <th>3UTR MFE</th>\n",
       "      <th>3UTRL</th>\n",
       "      <th>3UTRK</th>\n",
       "      <th>5UTRK</th>\n",
       "      <th>Combined</th>\n",
       "    </tr>\n",
       "  </thead>\n",
       "  <tbody>\n",
       "    <tr>\n",
       "      <th>0</th>\n",
       "      <td>atpA</td>\n",
       "      <td>11.88</td>\n",
       "      <td>0.832</td>\n",
       "      <td>tttttaattaagtaggaactcggtatatgctcttttggggtcttat...</td>\n",
       "      <td>attttaatgcttatgctatcttttttatttagtccataaaaccttt...</td>\n",
       "      <td>5</td>\n",
       "      <td>3</td>\n",
       "      <td>-31.3</td>\n",
       "      <td>185</td>\n",
       "      <td>[ttt, ttt, ttt, tta, taa, aat, att, tta, taa, ...</td>\n",
       "      <td>[att, ttt, ttt, tta, taa, aat, atg, tgc, gct, ...</td>\n",
       "      <td>[ttt, ttt, ttt, tta, taa, aat, att, tta, taa, ...</td>\n",
       "    </tr>\n",
       "    <tr>\n",
       "      <th>1</th>\n",
       "      <td>atpB</td>\n",
       "      <td>11.62</td>\n",
       "      <td>0.814</td>\n",
       "      <td>ttggctctttaagaagaaaacaacttaatggtgtccaaatatttat...</td>\n",
       "      <td>tcatattttaacttattttacttaaattcttacgtataaaccccga...</td>\n",
       "      <td>5</td>\n",
       "      <td>3</td>\n",
       "      <td>-4.9</td>\n",
       "      <td>70</td>\n",
       "      <td>[ttg, tgg, ggc, gct, ctc, tct, ctt, ttt, tta, ...</td>\n",
       "      <td>[tca, cat, ata, tat, att, ttt, ttt, tta, taa, ...</td>\n",
       "      <td>[ttg, tgg, ggc, gct, ctc, tct, ctt, ttt, tta, ...</td>\n",
       "    </tr>\n",
       "    <tr>\n",
       "      <th>2</th>\n",
       "      <td>atpE</td>\n",
       "      <td>11.36</td>\n",
       "      <td>0.796</td>\n",
       "      <td>ttagatctatgtatttacccaaagagtatactgttcaactctatca...</td>\n",
       "      <td>aataaaaaaaaataaaacttctaaaagcgataaagctagaacattc...</td>\n",
       "      <td>4</td>\n",
       "      <td>3</td>\n",
       "      <td>-30.1</td>\n",
       "      <td>132</td>\n",
       "      <td>[tta, tag, aga, gat, atc, tct, cta, tat, atg, ...</td>\n",
       "      <td>[aat, ata, taa, aaa, aaa, aaa, aaa, aaa, aaa, ...</td>\n",
       "      <td>[tta, tag, aga, gat, atc, tct, cta, tat, atg, ...</td>\n",
       "    </tr>\n",
       "    <tr>\n",
       "      <th>3</th>\n",
       "      <td>atpF</td>\n",
       "      <td>9.68</td>\n",
       "      <td>0.678</td>\n",
       "      <td>tttttaataaagcttactaacgaattacactaactttactgtattt...</td>\n",
       "      <td>aaataaatttgacttagcttaaatttcagtatatttatatacacaa...</td>\n",
       "      <td>3</td>\n",
       "      <td>2</td>\n",
       "      <td>-230.6</td>\n",
       "      <td>628</td>\n",
       "      <td>[ttt, ttt, ttt, tta, taa, aat, ata, taa, aaa, ...</td>\n",
       "      <td>[aaa, aat, ata, taa, aaa, aat, att, ttt, ttg, ...</td>\n",
       "      <td>[ttt, ttt, ttt, tta, taa, aat, ata, taa, aaa, ...</td>\n",
       "    </tr>\n",
       "    <tr>\n",
       "      <th>4</th>\n",
       "      <td>atpH</td>\n",
       "      <td>13.85</td>\n",
       "      <td>0.971</td>\n",
       "      <td>ttttaaatttacatgttgtaaaggatatctatagaaatgggagtta...</td>\n",
       "      <td>tcggataaaacatattatgaccgtataatgtttttccaccattgaa...</td>\n",
       "      <td>5</td>\n",
       "      <td>3</td>\n",
       "      <td>-206.4</td>\n",
       "      <td>986</td>\n",
       "      <td>[ttt, ttt, tta, taa, aaa, aat, att, ttt, tta, ...</td>\n",
       "      <td>[tcg, cgg, gga, gat, ata, taa, aaa, aaa, aac, ...</td>\n",
       "      <td>[ttt, ttt, tta, taa, aaa, aat, att, ttt, tta, ...</td>\n",
       "    </tr>\n",
       "  </tbody>\n",
       "</table>\n",
       "</div>"
      ],
      "text/plain": [
       "   Gene  Average  Normalised avg  \\\n",
       "0  atpA    11.88           0.832   \n",
       "1  atpB    11.62           0.814   \n",
       "2  atpE    11.36           0.796   \n",
       "3  atpF     9.68           0.678   \n",
       "4  atpH    13.85           0.971   \n",
       "\n",
       "                                                3UTR  \\\n",
       "0  tttttaattaagtaggaactcggtatatgctcttttggggtcttat...   \n",
       "1  ttggctctttaagaagaaaacaacttaatggtgtccaaatatttat...   \n",
       "2  ttagatctatgtatttacccaaagagtatactgttcaactctatca...   \n",
       "3  tttttaataaagcttactaacgaattacactaactttactgtattt...   \n",
       "4  ttttaaatttacatgttgtaaaggatatctatagaaatgggagtta...   \n",
       "\n",
       "                                                5UTR  Quintile  Tertile  \\\n",
       "0  attttaatgcttatgctatcttttttatttagtccataaaaccttt...         5        3   \n",
       "1  tcatattttaacttattttacttaaattcttacgtataaaccccga...         5        3   \n",
       "2  aataaaaaaaaataaaacttctaaaagcgataaagctagaacattc...         4        3   \n",
       "3  aaataaatttgacttagcttaaatttcagtatatttatatacacaa...         3        2   \n",
       "4  tcggataaaacatattatgaccgtataatgtttttccaccattgaa...         5        3   \n",
       "\n",
       "   3UTR MFE  3UTRL                                              3UTRK  \\\n",
       "0     -31.3    185  [ttt, ttt, ttt, tta, taa, aat, att, tta, taa, ...   \n",
       "1      -4.9     70  [ttg, tgg, ggc, gct, ctc, tct, ctt, ttt, tta, ...   \n",
       "2     -30.1    132  [tta, tag, aga, gat, atc, tct, cta, tat, atg, ...   \n",
       "3    -230.6    628  [ttt, ttt, ttt, tta, taa, aat, ata, taa, aaa, ...   \n",
       "4    -206.4    986  [ttt, ttt, tta, taa, aaa, aat, att, ttt, tta, ...   \n",
       "\n",
       "                                               5UTRK  \\\n",
       "0  [att, ttt, ttt, tta, taa, aat, atg, tgc, gct, ...   \n",
       "1  [tca, cat, ata, tat, att, ttt, ttt, tta, taa, ...   \n",
       "2  [aat, ata, taa, aaa, aaa, aaa, aaa, aaa, aaa, ...   \n",
       "3  [aaa, aat, ata, taa, aaa, aat, att, ttt, ttg, ...   \n",
       "4  [tcg, cgg, gga, gat, ata, taa, aaa, aaa, aac, ...   \n",
       "\n",
       "                                            Combined  \n",
       "0  [ttt, ttt, ttt, tta, taa, aat, att, tta, taa, ...  \n",
       "1  [ttg, tgg, ggc, gct, ctc, tct, ctt, ttt, tta, ...  \n",
       "2  [tta, tag, aga, gat, atc, tct, cta, tat, atg, ...  \n",
       "3  [ttt, ttt, ttt, tta, taa, aat, ata, taa, aaa, ...  \n",
       "4  [ttt, ttt, tta, taa, aaa, aat, att, ttt, tta, ...  "
      ]
     },
     "execution_count": 65,
     "metadata": {},
     "output_type": "execute_result"
    }
   ],
   "source": [
    "chloroplast.head()"
   ]
  },
  {
   "cell_type": "code",
   "execution_count": 66,
   "metadata": {},
   "outputs": [],
   "source": [
    "y2 = chloroplast[['Tertile']]"
   ]
  },
  {
   "cell_type": "code",
   "execution_count": 67,
   "metadata": {},
   "outputs": [],
   "source": [
    "y2_pred = np.empty(67,) "
   ]
  },
  {
   "cell_type": "code",
   "execution_count": 68,
   "metadata": {},
   "outputs": [],
   "source": [
    "y2_pred = nuclearclassifier.predict(X2)"
   ]
  },
  {
   "cell_type": "code",
   "execution_count": 69,
   "metadata": {},
   "outputs": [
    {
     "name": "stdout",
     "output_type": "stream",
     "text": [
      "0.4626865671641791\n",
      "0.6333254675240398\n",
      "0.4626865671641791\n"
     ]
    }
   ],
   "source": [
    "print(accuracy_score(y2_pred, y2))\n",
    "print(precision_score(y2_pred, y2, average='weighted'))\n",
    "print(recall_score(y2_pred, y2, average='weighted'))"
   ]
  },
  {
   "cell_type": "code",
   "execution_count": 70,
   "metadata": {},
   "outputs": [
    {
     "name": "stdout",
     "output_type": "stream",
     "text": [
      "0.34328358208955223\n",
      "0.9701492537313433\n",
      "0.34328358208955223\n"
     ]
    },
    {
     "name": "stderr",
     "output_type": "stream",
     "text": [
      "C:\\Users\\natha\\anaconda3\\lib\\site-packages\\sklearn\\metrics\\_classification.py:1272: UndefinedMetricWarning: Recall is ill-defined and being set to 0.0 in labels with no true samples. Use `zero_division` parameter to control this behavior.\n",
      "  _warn_prf(average, modifier, msg_start, len(result))\n"
     ]
    }
   ],
   "source": [
    "y3_pred = nuclearclassifier2.predict(X2)\n",
    "print(accuracy_score(y3_pred, y2))\n",
    "print(precision_score(y3_pred, y2, average='weighted'))\n",
    "print(recall_score(y3_pred, y2, average='weighted'))"
   ]
  },
  {
   "cell_type": "code",
   "execution_count": null,
   "metadata": {},
   "outputs": [],
   "source": []
  }
 ],
 "metadata": {
  "kernelspec": {
   "display_name": "Python 3",
   "language": "python",
   "name": "python3"
  },
  "language_info": {
   "codemirror_mode": {
    "name": "ipython",
    "version": 3
   },
   "file_extension": ".py",
   "mimetype": "text/x-python",
   "name": "python",
   "nbconvert_exporter": "python",
   "pygments_lexer": "ipython3",
   "version": "3.7.6"
  }
 },
 "nbformat": 4,
 "nbformat_minor": 4
}
